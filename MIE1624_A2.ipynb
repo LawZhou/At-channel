{
  "nbformat": 4,
  "nbformat_minor": 0,
  "metadata": {
    "colab": {
      "name": "MIE1624_A2.ipynb",
      "provenance": [],
      "mount_file_id": "1-TsJ6hFcHk8u0ruaLPBo_DzVmLJ267lg",
      "authorship_tag": "ABX9TyM1XCMddoa6mMfPLbN7ZiiQ",
      "include_colab_link": true
    },
    "kernelspec": {
      "name": "python3",
      "display_name": "Python 3"
    }
  },
  "cells": [
    {
      "cell_type": "markdown",
      "metadata": {
        "id": "view-in-github",
        "colab_type": "text"
      },
      "source": [
        "<a href=\"https://colab.research.google.com/github/LawZhou/AtChannel-decentralized-video-platform/blob/master/MIE1624_A2.ipynb\" target=\"_parent\"><img src=\"https://colab.research.google.com/assets/colab-badge.svg\" alt=\"Open In Colab\"/></a>"
      ]
    },
    {
      "cell_type": "code",
      "metadata": {
        "id": "AHWVMqJV73CA"
      },
      "source": [
        "import matplotlib.pyplot as plt\r\n",
        "import pandas as pd\r\n",
        "import numpy as np\r\n",
        "df = pd.read_csv(\"/content/drive/MyDrive/Colab Notebooks/clean_kaggle_data_2020.csv\",\r\n",
        "                 low_memory=False)\r\n",
        "# df = pd.read_csv(\"data/clean_kaggle_data.csv\", low_memory=False)\r\n",
        "features = df.iloc[1:, :-2].copy()\r\n",
        "targets = df.iloc[1:, -2].copy()"
      ],
      "execution_count": 1,
      "outputs": []
    },
    {
      "cell_type": "markdown",
      "metadata": {
        "id": "uwfBVA6e9LNH"
      },
      "source": [
        "# Question 1: Data cleaning"
      ]
    },
    {
      "cell_type": "code",
      "metadata": {
        "colab": {
          "base_uri": "https://localhost:8080/"
        },
        "id": "sgwU82YN-n15",
        "outputId": "1cf41a23-9820-45bd-80e4-2d3ad9748922"
      },
      "source": [
        "num_col = ['Time from Start to Finish (seconds)']\r\n",
        "not_mc_cols = []\r\n",
        "for col in features.columns:\r\n",
        "  if '_' not in col and col not in num_col:\r\n",
        "    not_mc_cols.append(col)\r\n",
        "not_mc_cols"
      ],
      "execution_count": 2,
      "outputs": [
        {
          "output_type": "execute_result",
          "data": {
            "text/plain": [
              "['Q1',\n",
              " 'Q2',\n",
              " 'Q3',\n",
              " 'Q4',\n",
              " 'Q5',\n",
              " 'Q6',\n",
              " 'Q8',\n",
              " 'Q11',\n",
              " 'Q13',\n",
              " 'Q15',\n",
              " 'Q20',\n",
              " 'Q21',\n",
              " 'Q22',\n",
              " 'Q24',\n",
              " 'Q25',\n",
              " 'Q30',\n",
              " 'Q32',\n",
              " 'Q38']"
            ]
          },
          "metadata": {
            "tags": []
          },
          "execution_count": 2
        }
      ]
    },
    {
      "cell_type": "code",
      "metadata": {
        "id": "3LbMyDZhCuv1"
      },
      "source": [
        "mc_cols = []\r\n",
        "for col in features.columns:\r\n",
        "  if col not in not_mc_cols and col not in num_col:\r\n",
        "    mc_cols.append(col)"
      ],
      "execution_count": 3,
      "outputs": []
    },
    {
      "cell_type": "code",
      "metadata": {
        "id": "nEuRBALKE1Hj"
      },
      "source": [
        "for col in not_mc_cols:\r\n",
        "  features[col] = pd.factorize(features[col])[0]"
      ],
      "execution_count": 4,
      "outputs": []
    },
    {
      "cell_type": "code",
      "metadata": {
        "id": "Mvp5bbLMNlBf"
      },
      "source": [
        "dummies = features[mc_cols].fillna(0)\r\n",
        "dummies[dummies != 0] = 1\r\n",
        "features[mc_cols] = dummies"
      ],
      "execution_count": 5,
      "outputs": []
    },
    {
      "cell_type": "markdown",
      "metadata": {
        "id": "sy2UaoXGUESU"
      },
      "source": [
        "# Split train test"
      ]
    },
    {
      "cell_type": "code",
      "metadata": {
        "colab": {
          "base_uri": "https://localhost:8080/"
        },
        "id": "2yhZWPPHUDCd",
        "outputId": "981d6d06-9a32-47de-b99c-add82a1f1a3d"
      },
      "source": [
        "from sklearn.model_selection import train_test_split\r\n",
        "X_train, X_test, y_train, y_test = train_test_split(\r\n",
        "     features, targets, test_size=0.2, random_state=42)\r\n",
        "print(f\"Shape of train features: {X_train.shape}\")\r\n",
        "print(f\"Shape of test features: {X_test.shape}\")"
      ],
      "execution_count": 6,
      "outputs": [
        {
          "output_type": "stream",
          "text": [
            "Shape of train features: (8583, 355)\n",
            "Shape of test features: (2146, 355)\n"
          ],
          "name": "stdout"
        }
      ]
    },
    {
      "cell_type": "markdown",
      "metadata": {
        "id": "BatbEoJjQg10"
      },
      "source": [
        "# Question 2: Exploratory data analysis and feature selection "
      ]
    },
    {
      "cell_type": "markdown",
      "metadata": {
        "id": "FvSX2M5nV1vv"
      },
      "source": [
        "## feature importance"
      ]
    },
    {
      "cell_type": "code",
      "metadata": {
        "id": "w9rJY7hcSYNh",
        "colab": {
          "base_uri": "https://localhost:8080/"
        },
        "outputId": "90fca25d-9f7d-4152-c3fa-b1591516b5f8"
      },
      "source": [
        "from sklearn.ensemble import RandomForestClassifier\r\n",
        "model = RandomForestClassifier()\r\n",
        "model.fit(X_train, y_train)"
      ],
      "execution_count": 7,
      "outputs": [
        {
          "output_type": "execute_result",
          "data": {
            "text/plain": [
              "RandomForestClassifier(bootstrap=True, ccp_alpha=0.0, class_weight=None,\n",
              "                       criterion='gini', max_depth=None, max_features='auto',\n",
              "                       max_leaf_nodes=None, max_samples=None,\n",
              "                       min_impurity_decrease=0.0, min_impurity_split=None,\n",
              "                       min_samples_leaf=1, min_samples_split=2,\n",
              "                       min_weight_fraction_leaf=0.0, n_estimators=100,\n",
              "                       n_jobs=None, oob_score=False, random_state=None,\n",
              "                       verbose=0, warm_start=False)"
            ]
          },
          "metadata": {
            "tags": []
          },
          "execution_count": 7
        }
      ]
    },
    {
      "cell_type": "code",
      "metadata": {
        "colab": {
          "base_uri": "https://localhost:8080/",
          "height": 265
        },
        "id": "WZfAGgBlWTUz",
        "outputId": "1abc77f9-e7b0-4b95-de1b-9f71062b4141"
      },
      "source": [
        "from matplotlib import pyplot\r\n",
        "# get importance\r\n",
        "importance = model.feature_importances_\r\n",
        "# plot feature importance\r\n",
        "pyplot.bar([x for x in range(len(importance))], importance)\r\n",
        "pyplot.show()"
      ],
      "execution_count": 8,
      "outputs": [
        {
          "output_type": "display_data",
          "data": {
            "image/png": "[encoded data removed]",
            "text/plain": [
              "<Figure size 432x288 with 1 Axes>"
            ]
          },
          "metadata": {
            "tags": [],
            "needs_background": "light"
          }
        }
      ]
    },
    {
      "cell_type": "markdown",
      "metadata": {
        "id": "DlW9IMxwE8xz"
      },
      "source": [
        "## Feature selection"
      ]
    },
    {
      "cell_type": "code",
      "metadata": {
        "id": "Res0W5mWE76R"
      },
      "source": [
        "from sklearn.feature_selection import SelectKBest, mutual_info_classif\r\n",
        "# sel = VarianceThreshold(threshold=(.8 * (1 - .8)))\r\n",
        "sel = SelectKBest(mutual_info_classif, k=40)\r\n",
        "X_train = sel.fit_transform(X_train, y_train)\r\n",
        "X_test = sel.transform(X_test)"
      ],
      "execution_count": 21,
      "outputs": []
    },
    {
      "cell_type": "markdown",
      "metadata": {
        "id": "t8ooPBe0J5tW"
      },
      "source": [
        "# Question 3 Model implementation"
      ]
    }
  ]
}
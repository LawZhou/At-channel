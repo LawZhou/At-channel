{
  "nbformat": 4,
  "nbformat_minor": 0,
  "metadata": {
    "colab": {
      "name": "MIE1624_A2.ipynb",
      "provenance": [],
      "mount_file_id": "1-TsJ6hFcHk8u0ruaLPBo_DzVmLJ267lg",
      "authorship_tag": "ABX9TyNY4/PVM1c1zp1IGuVoV2rq",
      "include_colab_link": true
    },
    "kernelspec": {
      "name": "python3",
      "display_name": "Python 3"
    }
  },
  "cells": [
    {
      "cell_type": "markdown",
      "metadata": {
        "id": "view-in-github",
        "colab_type": "text"
      },
      "source": [
        "<a href=\"https://colab.research.google.com/github/LawZhou/AtChannel-decentralized-video-platform/blob/master/MIE1624_A2.ipynb\" target=\"_parent\"><img src=\"https://colab.research.google.com/assets/colab-badge.svg\" alt=\"Open In Colab\"/></a>"
      ]
    },
    {
      "cell_type": "code",
      "metadata": {
        "id": "AHWVMqJV73CA"
      },
      "source": [
        "import matplotlib.pyplot as plt\r\n",
        "import pandas as pd\r\n",
        "import numpy as np\r\n",
        "df = pd.read_csv(\"/content/drive/MyDrive/Colab Notebooks/clean_kaggle_data_2020.csv\",\r\n",
        "                 low_memory=False)\r\n",
        "# df = pd.read_csv(\"data/clean_kaggle_data.csv\", low_memory=False)\r\n",
        "\r\n",
        "df = df.drop('Q24', axis=1)\r\n",
        "# col Q4_Encoded\r\n"
      ],
      "execution_count": 1,
      "outputs": []
    },
    {
      "cell_type": "markdown",
      "metadata": {
        "id": "uwfBVA6e9LNH"
      },
      "source": [
        "# Question 1: Data cleaning"
      ]
    },
    {
      "cell_type": "code",
      "metadata": {
        "id": "YqTFahhWY1_J"
      },
      "source": [
        "# Drop the numerical features\r\n",
        "num_col = ['Time from Start to Finish (seconds)']\r\n",
        "df = df.drop(num_col, axis=1)"
      ],
      "execution_count": 2,
      "outputs": []
    },
    {
      "cell_type": "code",
      "metadata": {
        "id": "sgwU82YN-n15"
      },
      "source": [
        "# Not multiple choice columns\r\n",
        "not_mc_cols = []\r\n",
        "for col in df.columns:\r\n",
        "  if '_' not in col and not 'Q24' in col:\r\n",
        "    not_mc_cols.append(col)"
      ],
      "execution_count": 3,
      "outputs": []
    },
    {
      "cell_type": "code",
      "metadata": {
        "id": "fsy4KYS5KwlK"
      },
      "source": [
        "mc_cols = []\r\n",
        "# Multiple choice columns\r\n",
        "for col in df.columns:\r\n",
        "  if col not in not_mc_cols and not 'Q24' in col:\r\n",
        "    mc_cols.append(col)"
      ],
      "execution_count": 4,
      "outputs": []
    },
    {
      "cell_type": "code",
      "metadata": {
        "colab": {
          "base_uri": "https://localhost:8080/"
        },
        "id": "_adJHZdboXOu",
        "outputId": "17329b7c-dd22-44d5-dc0e-186ee0eb9472"
      },
      "source": [
        "df.shape"
      ],
      "execution_count": 5,
      "outputs": [
        {
          "output_type": "execute_result",
          "data": {
            "text/plain": [
              "(10730, 355)"
            ]
          },
          "metadata": {
            "tags": []
          },
          "execution_count": 5
        }
      ]
    },
    {
      "cell_type": "code",
      "metadata": {
        "id": "1yN2pMkkoT7k"
      },
      "source": [
        "df = df.dropna(axis=0, how='any', thresh=13, subset=not_mc_cols)"
      ],
      "execution_count": 6,
      "outputs": []
    },
    {
      "cell_type": "code",
      "metadata": {
        "colab": {
          "base_uri": "https://localhost:8080/"
        },
        "id": "17Gb9rsqoYkt",
        "outputId": "48d01d11-1a9e-484d-995c-6f931f969ff9"
      },
      "source": [
        "df.shape"
      ],
      "execution_count": 7,
      "outputs": [
        {
          "output_type": "execute_result",
          "data": {
            "text/plain": [
              "(10730, 355)"
            ]
          },
          "metadata": {
            "tags": []
          },
          "execution_count": 7
        }
      ]
    },
    {
      "cell_type": "code",
      "metadata": {
        "id": "rsiosGxenZlk"
      },
      "source": [
        "features = df.iloc[1:, :-2].copy()\r\n",
        "targets = df.iloc[1:, -2].copy()"
      ],
      "execution_count": 8,
      "outputs": []
    },
    {
      "cell_type": "code",
      "metadata": {
        "colab": {
          "base_uri": "https://localhost:8080/"
        },
        "id": "xbGyCYM-5sat",
        "outputId": "af318314-0869-4c7c-d76e-298c308f105b"
      },
      "source": [
        "features.shape"
      ],
      "execution_count": 9,
      "outputs": [
        {
          "output_type": "execute_result",
          "data": {
            "text/plain": [
              "(10729, 353)"
            ]
          },
          "metadata": {
            "tags": []
          },
          "execution_count": 9
        }
      ]
    },
    {
      "cell_type": "markdown",
      "metadata": {
        "id": "cKWsuHQjBR4H"
      },
      "source": [
        "## Clean non-MC columns"
      ]
    },
    {
      "cell_type": "code",
      "metadata": {
        "colab": {
          "base_uri": "https://localhost:8080/"
        },
        "id": "S0esu5NK6A3M",
        "outputId": "6e203753-a5f9-4f3d-f15b-3262a4b6f5c8"
      },
      "source": [
        "features[not_mc_cols].isnull().sum(axis=0)"
      ],
      "execution_count": 10,
      "outputs": [
        {
          "output_type": "execute_result",
          "data": {
            "text/plain": [
              "Q1        0\n",
              "Q2        0\n",
              "Q3        0\n",
              "Q4        0\n",
              "Q5        0\n",
              "Q6        0\n",
              "Q8      561\n",
              "Q11     561\n",
              "Q13     561\n",
              "Q15     561\n",
              "Q20       0\n",
              "Q21       0\n",
              "Q22       0\n",
              "Q25     159\n",
              "Q30    7216\n",
              "Q32    9231\n",
              "Q38    1253\n",
              "dtype: int64"
            ]
          },
          "metadata": {
            "tags": []
          },
          "execution_count": 10
        }
      ]
    },
    {
      "cell_type": "code",
      "metadata": {
        "id": "If7foImNfjf5"
      },
      "source": [
        "not_mc_cols.remove('Q30')\r\n",
        "not_mc_cols.remove('Q32')\r\n",
        "features = features.drop(['Q30', 'Q32'], axis=1)"
      ],
      "execution_count": 11,
      "outputs": []
    },
    {
      "cell_type": "code",
      "metadata": {
        "id": "uEhP5h4L-60a"
      },
      "source": [
        "# # Keep rows that contain over 13 valid entries\r\n",
        "# features = features.dropna(axis=0, how='any', thresh=13, subset=not_mc_cols)\r\n",
        "# features[not_mc_cols] = features[not_mc_cols].dropna(axis=0, how='any', thresh=15, subset=None)\r\n",
        "\r\n",
        "# Assign NaN to category 'Unknown'\r\n",
        "for col in not_mc_cols:\r\n",
        "  features.loc[features[col].isnull(), col] = 'Unknown'"
      ],
      "execution_count": 12,
      "outputs": []
    },
    {
      "cell_type": "code",
      "metadata": {
        "colab": {
          "base_uri": "https://localhost:8080/"
        },
        "id": "fPyXknk8HhF_",
        "outputId": "3189f640-e83c-49b8-b162-69e3e17dc66c"
      },
      "source": [
        "for col in not_mc_cols:\r\n",
        "    print(f'Number of unique elements in {col}: {features[col].nunique()}')"
      ],
      "execution_count": 13,
      "outputs": [
        {
          "output_type": "stream",
          "text": [
            "Number of unique elements in Q1: 11\n",
            "Number of unique elements in Q2: 5\n",
            "Number of unique elements in Q3: 55\n",
            "Number of unique elements in Q4: 7\n",
            "Number of unique elements in Q5: 11\n",
            "Number of unique elements in Q6: 7\n",
            "Number of unique elements in Q8: 14\n",
            "Number of unique elements in Q11: 6\n",
            "Number of unique elements in Q13: 6\n",
            "Number of unique elements in Q15: 10\n",
            "Number of unique elements in Q20: 5\n",
            "Number of unique elements in Q21: 7\n",
            "Number of unique elements in Q22: 6\n",
            "Number of unique elements in Q25: 7\n",
            "Number of unique elements in Q38: 7\n"
          ],
          "name": "stdout"
        }
      ]
    },
    {
      "cell_type": "code",
      "metadata": {
        "colab": {
          "base_uri": "https://localhost:8080/"
        },
        "id": "xkrhYBirIkJP",
        "outputId": "088a5543-b19a-481f-a664-9f83e059c5ca"
      },
      "source": [
        "features['Q3'].value_counts()"
      ],
      "execution_count": 14,
      "outputs": [
        {
          "output_type": "execute_result",
          "data": {
            "text/plain": [
              "India                                                   2353\n",
              "United States of America                                1484\n",
              "Other                                                    815\n",
              "Brazil                                                   443\n",
              "Japan                                                    385\n",
              "Russia                                                   351\n",
              "United Kingdom of Great Britain and Northern Ireland     350\n",
              "Germany                                                  256\n",
              "Nigeria                                                  246\n",
              "Spain                                                    234\n",
              "Canada                                                   198\n",
              "France                                                   197\n",
              "Italy                                                    184\n",
              "China                                                    166\n",
              "Turkey                                                   166\n",
              "Australia                                                147\n",
              "Mexico                                                   138\n",
              "Indonesia                                                127\n",
              "Taiwan                                                   123\n",
              "Pakistan                                                 121\n",
              "Colombia                                                 120\n",
              "Ukraine                                                  114\n",
              "Netherlands                                              113\n",
              "Poland                                                    98\n",
              "Egypt                                                     92\n",
              "Singapore                                                 88\n",
              "Portugal                                                  87\n",
              "South Korea                                               87\n",
              "Argentina                                                 83\n",
              "Viet Nam                                                  83\n",
              "South Africa                                              79\n",
              "Iran, Islamic Republic of...                              77\n",
              "Kenya                                                     75\n",
              "Thailand                                                  74\n",
              "Greece                                                    65\n",
              "Israel                                                    64\n",
              "Chile                                                     62\n",
              "Peru                                                      62\n",
              "Morocco                                                   60\n",
              "Sweden                                                    55\n",
              "Malaysia                                                  54\n",
              "Philippines                                               51\n",
              "Tunisia                                                   50\n",
              "Switzerland                                               48\n",
              "Saudi Arabia                                              47\n",
              "Bangladesh                                                46\n",
              "United Arab Emirates                                      45\n",
              "Republic of Korea                                         42\n",
              "Romania                                                   38\n",
              "Sri Lanka                                                 38\n",
              "Belarus                                                   37\n",
              "Ireland                                                   35\n",
              "Belgium                                                   35\n",
              "Ghana                                                     21\n",
              "Nepal                                                     20\n",
              "Name: Q3, dtype: int64"
            ]
          },
          "metadata": {
            "tags": []
          },
          "execution_count": 14
        }
      ]
    },
    {
      "cell_type": "markdown",
      "metadata": {
        "id": "-Gao0bdmYycl"
      },
      "source": [
        "We can find out that Q3 has too many categories that may slow down learning. We can truncate the insignificant ones."
      ]
    },
    {
      "cell_type": "code",
      "metadata": {
        "colab": {
          "base_uri": "https://localhost:8080/"
        },
        "id": "8dbovgKzJJ7i",
        "outputId": "9d27cb36-f01a-45e0-bc88-2d1f26795142"
      },
      "source": [
        "def remove_insiginicances(data, col, threshold):\r\n",
        "  counts = data[col].value_counts()\r\n",
        "  value_mask = data[col].isin(counts.index[counts < threshold])\r\n",
        "  data.loc[value_mask,col] = \"Other\"\r\n",
        "# remove categories appearing below 100 times\r\n",
        "remove_insiginicances(features, 'Q3', 100)\r\n",
        "features['Q3'].value_counts()"
      ],
      "execution_count": 15,
      "outputs": [
        {
          "output_type": "execute_result",
          "data": {
            "text/plain": [
              "Other                                                   2713\n",
              "India                                                   2353\n",
              "United States of America                                1484\n",
              "Brazil                                                   443\n",
              "Japan                                                    385\n",
              "Russia                                                   351\n",
              "United Kingdom of Great Britain and Northern Ireland     350\n",
              "Germany                                                  256\n",
              "Nigeria                                                  246\n",
              "Spain                                                    234\n",
              "Canada                                                   198\n",
              "France                                                   197\n",
              "Italy                                                    184\n",
              "Turkey                                                   166\n",
              "China                                                    166\n",
              "Australia                                                147\n",
              "Mexico                                                   138\n",
              "Indonesia                                                127\n",
              "Taiwan                                                   123\n",
              "Pakistan                                                 121\n",
              "Colombia                                                 120\n",
              "Ukraine                                                  114\n",
              "Netherlands                                              113\n",
              "Name: Q3, dtype: int64"
            ]
          },
          "metadata": {
            "tags": []
          },
          "execution_count": 15
        }
      ]
    },
    {
      "cell_type": "code",
      "metadata": {
        "id": "5LT60BBdKT_s"
      },
      "source": [
        "# one-hot encoding\r\n",
        "features = pd.get_dummies(data=features, columns=not_mc_cols)"
      ],
      "execution_count": 16,
      "outputs": []
    },
    {
      "cell_type": "code",
      "metadata": {
        "colab": {
          "base_uri": "https://localhost:8080/",
          "height": 560
        },
        "id": "Oxd1f5dhKaKS",
        "outputId": "8149602d-eb3d-4b42-fb11-07fba1524bba"
      },
      "source": [
        "features.head()"
      ],
      "execution_count": 17,
      "outputs": [
        {
          "output_type": "execute_result",
          "data": {
            "text/html": [
              "<div>\n",
              "<style scoped>\n",
              "    .dataframe tbody tr th:only-of-type {\n",
              "        vertical-align: middle;\n",
              "    }\n",
              "\n",
              "    .dataframe tbody tr th {\n",
              "        vertical-align: top;\n",
              "    }\n",
              "\n",
              "    .dataframe thead th {\n",
              "        text-align: right;\n",
              "    }\n",
              "</style>\n",
              "<table border=\"1\" class=\"dataframe\">\n",
              "  <thead>\n",
              "    <tr style=\"text-align: right;\">\n",
              "      <th></th>\n",
              "      <th>Q7_Part_1</th>\n",
              "      <th>Q7_Part_2</th>\n",
              "      <th>Q7_Part_3</th>\n",
              "      <th>Q7_Part_4</th>\n",
              "      <th>Q7_Part_5</th>\n",
              "      <th>Q7_Part_6</th>\n",
              "      <th>Q7_Part_7</th>\n",
              "      <th>Q7_Part_8</th>\n",
              "      <th>Q7_Part_9</th>\n",
              "      <th>Q7_Part_10</th>\n",
              "      <th>Q7_Part_11</th>\n",
              "      <th>Q7_Part_12</th>\n",
              "      <th>Q7_OTHER</th>\n",
              "      <th>Q9_Part_1</th>\n",
              "      <th>Q9_Part_2</th>\n",
              "      <th>Q9_Part_3</th>\n",
              "      <th>Q9_Part_4</th>\n",
              "      <th>Q9_Part_5</th>\n",
              "      <th>Q9_Part_6</th>\n",
              "      <th>Q9_Part_7</th>\n",
              "      <th>Q9_Part_8</th>\n",
              "      <th>Q9_Part_9</th>\n",
              "      <th>Q9_Part_10</th>\n",
              "      <th>Q9_Part_11</th>\n",
              "      <th>Q9_OTHER</th>\n",
              "      <th>Q10_Part_1</th>\n",
              "      <th>Q10_Part_2</th>\n",
              "      <th>Q10_Part_3</th>\n",
              "      <th>Q10_Part_4</th>\n",
              "      <th>Q10_Part_5</th>\n",
              "      <th>Q10_Part_6</th>\n",
              "      <th>Q10_Part_7</th>\n",
              "      <th>Q10_Part_8</th>\n",
              "      <th>Q10_Part_9</th>\n",
              "      <th>Q10_Part_10</th>\n",
              "      <th>Q10_Part_11</th>\n",
              "      <th>Q10_Part_12</th>\n",
              "      <th>Q10_Part_13</th>\n",
              "      <th>Q10_OTHER</th>\n",
              "      <th>Q12_Part_1</th>\n",
              "      <th>...</th>\n",
              "      <th>Q15_2-3 years</th>\n",
              "      <th>Q15_20 or more years</th>\n",
              "      <th>Q15_3-4 years</th>\n",
              "      <th>Q15_4-5 years</th>\n",
              "      <th>Q15_5-10 years</th>\n",
              "      <th>Q15_I do not use machine learning methods</th>\n",
              "      <th>Q15_Under 1 year</th>\n",
              "      <th>Q15_Unknown</th>\n",
              "      <th>Q20_0-49 employees</th>\n",
              "      <th>Q20_10,000 or more employees</th>\n",
              "      <th>Q20_1000-9,999 employees</th>\n",
              "      <th>Q20_250-999 employees</th>\n",
              "      <th>Q20_50-249 employees</th>\n",
              "      <th>Q21_0</th>\n",
              "      <th>Q21_1-2</th>\n",
              "      <th>Q21_10-14</th>\n",
              "      <th>Q21_15-19</th>\n",
              "      <th>Q21_20+</th>\n",
              "      <th>Q21_3-4</th>\n",
              "      <th>Q21_5-9</th>\n",
              "      <th>Q22_I do not know</th>\n",
              "      <th>Q22_No (we do not use ML methods)</th>\n",
              "      <th>Q22_We are exploring ML methods (and may one day put a model into production)</th>\n",
              "      <th>Q22_We have well established ML methods (i.e., models in production for more than 2 years)</th>\n",
              "      <th>Q22_We recently started using ML methods (i.e., models in production for less than 2 years)</th>\n",
              "      <th>Q22_We use ML methods for generating insights (but do not put working models into production)</th>\n",
              "      <th>Q25_$0 ($USD)</th>\n",
              "      <th>Q25_$1-$99</th>\n",
              "      <th>Q25_$10,000-$99,999</th>\n",
              "      <th>Q25_$100,000 or more ($USD)</th>\n",
              "      <th>Q25_$100-$999</th>\n",
              "      <th>Q25_$1000-$9,999</th>\n",
              "      <th>Q25_Unknown</th>\n",
              "      <th>Q38_Advanced statistical software (SPSS, SAS, etc.)</th>\n",
              "      <th>Q38_Basic statistical software (Microsoft Excel, Google Sheets, etc.)</th>\n",
              "      <th>Q38_Business intelligence software (Salesforce, Tableau, Spotfire, etc.)</th>\n",
              "      <th>Q38_Cloud-based data software &amp; APIs (AWS, GCP, Azure, etc.)</th>\n",
              "      <th>Q38_Local development environments (RStudio, JupyterLab, etc.)</th>\n",
              "      <th>Q38_Other</th>\n",
              "      <th>Q38_Unknown</th>\n",
              "    </tr>\n",
              "  </thead>\n",
              "  <tbody>\n",
              "    <tr>\n",
              "      <th>1</th>\n",
              "      <td>Python</td>\n",
              "      <td>R</td>\n",
              "      <td>SQL</td>\n",
              "      <td>NaN</td>\n",
              "      <td>NaN</td>\n",
              "      <td>NaN</td>\n",
              "      <td>NaN</td>\n",
              "      <td>NaN</td>\n",
              "      <td>NaN</td>\n",
              "      <td>NaN</td>\n",
              "      <td>NaN</td>\n",
              "      <td>NaN</td>\n",
              "      <td>NaN</td>\n",
              "      <td>NaN</td>\n",
              "      <td>NaN</td>\n",
              "      <td>Visual Studio</td>\n",
              "      <td>NaN</td>\n",
              "      <td>PyCharm</td>\n",
              "      <td>NaN</td>\n",
              "      <td>NaN</td>\n",
              "      <td>Sublime Text</td>\n",
              "      <td>NaN</td>\n",
              "      <td>NaN</td>\n",
              "      <td>NaN</td>\n",
              "      <td>NaN</td>\n",
              "      <td>NaN</td>\n",
              "      <td>Colab Notebooks</td>\n",
              "      <td>NaN</td>\n",
              "      <td>NaN</td>\n",
              "      <td>NaN</td>\n",
              "      <td>NaN</td>\n",
              "      <td>NaN</td>\n",
              "      <td>NaN</td>\n",
              "      <td>NaN</td>\n",
              "      <td>NaN</td>\n",
              "      <td>NaN</td>\n",
              "      <td>NaN</td>\n",
              "      <td>NaN</td>\n",
              "      <td>NaN</td>\n",
              "      <td>GPUs</td>\n",
              "      <td>...</td>\n",
              "      <td>0</td>\n",
              "      <td>0</td>\n",
              "      <td>0</td>\n",
              "      <td>0</td>\n",
              "      <td>0</td>\n",
              "      <td>0</td>\n",
              "      <td>0</td>\n",
              "      <td>0</td>\n",
              "      <td>0</td>\n",
              "      <td>1</td>\n",
              "      <td>0</td>\n",
              "      <td>0</td>\n",
              "      <td>0</td>\n",
              "      <td>0</td>\n",
              "      <td>0</td>\n",
              "      <td>0</td>\n",
              "      <td>0</td>\n",
              "      <td>1</td>\n",
              "      <td>0</td>\n",
              "      <td>0</td>\n",
              "      <td>0</td>\n",
              "      <td>0</td>\n",
              "      <td>0</td>\n",
              "      <td>1</td>\n",
              "      <td>0</td>\n",
              "      <td>0</td>\n",
              "      <td>0</td>\n",
              "      <td>0</td>\n",
              "      <td>0</td>\n",
              "      <td>1</td>\n",
              "      <td>0</td>\n",
              "      <td>0</td>\n",
              "      <td>0</td>\n",
              "      <td>0</td>\n",
              "      <td>0</td>\n",
              "      <td>1</td>\n",
              "      <td>0</td>\n",
              "      <td>0</td>\n",
              "      <td>0</td>\n",
              "      <td>0</td>\n",
              "    </tr>\n",
              "    <tr>\n",
              "      <th>2</th>\n",
              "      <td>NaN</td>\n",
              "      <td>NaN</td>\n",
              "      <td>NaN</td>\n",
              "      <td>NaN</td>\n",
              "      <td>NaN</td>\n",
              "      <td>Java</td>\n",
              "      <td>Javascript</td>\n",
              "      <td>NaN</td>\n",
              "      <td>NaN</td>\n",
              "      <td>Bash</td>\n",
              "      <td>NaN</td>\n",
              "      <td>NaN</td>\n",
              "      <td>NaN</td>\n",
              "      <td>NaN</td>\n",
              "      <td>NaN</td>\n",
              "      <td>NaN</td>\n",
              "      <td>Visual Studio Code (VSCode)</td>\n",
              "      <td>NaN</td>\n",
              "      <td>NaN</td>\n",
              "      <td>Notepad++</td>\n",
              "      <td>Sublime Text</td>\n",
              "      <td>Vim / Emacs</td>\n",
              "      <td>NaN</td>\n",
              "      <td>NaN</td>\n",
              "      <td>NaN</td>\n",
              "      <td>NaN</td>\n",
              "      <td>NaN</td>\n",
              "      <td>NaN</td>\n",
              "      <td>NaN</td>\n",
              "      <td>NaN</td>\n",
              "      <td>NaN</td>\n",
              "      <td>NaN</td>\n",
              "      <td>NaN</td>\n",
              "      <td>NaN</td>\n",
              "      <td>NaN</td>\n",
              "      <td>NaN</td>\n",
              "      <td>NaN</td>\n",
              "      <td>None</td>\n",
              "      <td>NaN</td>\n",
              "      <td>NaN</td>\n",
              "      <td>...</td>\n",
              "      <td>0</td>\n",
              "      <td>0</td>\n",
              "      <td>0</td>\n",
              "      <td>0</td>\n",
              "      <td>0</td>\n",
              "      <td>1</td>\n",
              "      <td>0</td>\n",
              "      <td>0</td>\n",
              "      <td>0</td>\n",
              "      <td>0</td>\n",
              "      <td>1</td>\n",
              "      <td>0</td>\n",
              "      <td>0</td>\n",
              "      <td>1</td>\n",
              "      <td>0</td>\n",
              "      <td>0</td>\n",
              "      <td>0</td>\n",
              "      <td>0</td>\n",
              "      <td>0</td>\n",
              "      <td>0</td>\n",
              "      <td>0</td>\n",
              "      <td>1</td>\n",
              "      <td>0</td>\n",
              "      <td>0</td>\n",
              "      <td>0</td>\n",
              "      <td>0</td>\n",
              "      <td>1</td>\n",
              "      <td>0</td>\n",
              "      <td>0</td>\n",
              "      <td>0</td>\n",
              "      <td>0</td>\n",
              "      <td>0</td>\n",
              "      <td>0</td>\n",
              "      <td>0</td>\n",
              "      <td>1</td>\n",
              "      <td>0</td>\n",
              "      <td>0</td>\n",
              "      <td>0</td>\n",
              "      <td>0</td>\n",
              "      <td>0</td>\n",
              "    </tr>\n",
              "    <tr>\n",
              "      <th>3</th>\n",
              "      <td>Python</td>\n",
              "      <td>NaN</td>\n",
              "      <td>SQL</td>\n",
              "      <td>NaN</td>\n",
              "      <td>NaN</td>\n",
              "      <td>NaN</td>\n",
              "      <td>NaN</td>\n",
              "      <td>NaN</td>\n",
              "      <td>NaN</td>\n",
              "      <td>Bash</td>\n",
              "      <td>NaN</td>\n",
              "      <td>NaN</td>\n",
              "      <td>NaN</td>\n",
              "      <td>NaN</td>\n",
              "      <td>NaN</td>\n",
              "      <td>NaN</td>\n",
              "      <td>NaN</td>\n",
              "      <td>PyCharm</td>\n",
              "      <td>NaN</td>\n",
              "      <td>NaN</td>\n",
              "      <td>NaN</td>\n",
              "      <td>NaN</td>\n",
              "      <td>NaN</td>\n",
              "      <td>NaN</td>\n",
              "      <td>NaN</td>\n",
              "      <td>NaN</td>\n",
              "      <td>NaN</td>\n",
              "      <td>NaN</td>\n",
              "      <td>NaN</td>\n",
              "      <td>NaN</td>\n",
              "      <td>NaN</td>\n",
              "      <td>NaN</td>\n",
              "      <td>NaN</td>\n",
              "      <td>NaN</td>\n",
              "      <td>NaN</td>\n",
              "      <td>NaN</td>\n",
              "      <td>NaN</td>\n",
              "      <td>None</td>\n",
              "      <td>NaN</td>\n",
              "      <td>NaN</td>\n",
              "      <td>...</td>\n",
              "      <td>0</td>\n",
              "      <td>0</td>\n",
              "      <td>1</td>\n",
              "      <td>0</td>\n",
              "      <td>0</td>\n",
              "      <td>0</td>\n",
              "      <td>0</td>\n",
              "      <td>0</td>\n",
              "      <td>0</td>\n",
              "      <td>0</td>\n",
              "      <td>0</td>\n",
              "      <td>1</td>\n",
              "      <td>0</td>\n",
              "      <td>0</td>\n",
              "      <td>0</td>\n",
              "      <td>0</td>\n",
              "      <td>0</td>\n",
              "      <td>0</td>\n",
              "      <td>0</td>\n",
              "      <td>1</td>\n",
              "      <td>0</td>\n",
              "      <td>0</td>\n",
              "      <td>0</td>\n",
              "      <td>1</td>\n",
              "      <td>0</td>\n",
              "      <td>0</td>\n",
              "      <td>0</td>\n",
              "      <td>0</td>\n",
              "      <td>1</td>\n",
              "      <td>0</td>\n",
              "      <td>0</td>\n",
              "      <td>0</td>\n",
              "      <td>0</td>\n",
              "      <td>0</td>\n",
              "      <td>0</td>\n",
              "      <td>0</td>\n",
              "      <td>0</td>\n",
              "      <td>1</td>\n",
              "      <td>0</td>\n",
              "      <td>0</td>\n",
              "    </tr>\n",
              "    <tr>\n",
              "      <th>4</th>\n",
              "      <td>Python</td>\n",
              "      <td>NaN</td>\n",
              "      <td>SQL</td>\n",
              "      <td>NaN</td>\n",
              "      <td>NaN</td>\n",
              "      <td>NaN</td>\n",
              "      <td>NaN</td>\n",
              "      <td>NaN</td>\n",
              "      <td>NaN</td>\n",
              "      <td>Bash</td>\n",
              "      <td>NaN</td>\n",
              "      <td>NaN</td>\n",
              "      <td>NaN</td>\n",
              "      <td>Jupyter (JupyterLab, Jupyter Notebooks, etc)</td>\n",
              "      <td>NaN</td>\n",
              "      <td>NaN</td>\n",
              "      <td>NaN</td>\n",
              "      <td>PyCharm</td>\n",
              "      <td>NaN</td>\n",
              "      <td>NaN</td>\n",
              "      <td>Sublime Text</td>\n",
              "      <td>Vim / Emacs</td>\n",
              "      <td>NaN</td>\n",
              "      <td>NaN</td>\n",
              "      <td>NaN</td>\n",
              "      <td>Kaggle Notebooks</td>\n",
              "      <td>Colab Notebooks</td>\n",
              "      <td>NaN</td>\n",
              "      <td>NaN</td>\n",
              "      <td>NaN</td>\n",
              "      <td>NaN</td>\n",
              "      <td>NaN</td>\n",
              "      <td>NaN</td>\n",
              "      <td>NaN</td>\n",
              "      <td>NaN</td>\n",
              "      <td>NaN</td>\n",
              "      <td>NaN</td>\n",
              "      <td>NaN</td>\n",
              "      <td>NaN</td>\n",
              "      <td>GPUs</td>\n",
              "      <td>...</td>\n",
              "      <td>1</td>\n",
              "      <td>0</td>\n",
              "      <td>0</td>\n",
              "      <td>0</td>\n",
              "      <td>0</td>\n",
              "      <td>0</td>\n",
              "      <td>0</td>\n",
              "      <td>0</td>\n",
              "      <td>0</td>\n",
              "      <td>0</td>\n",
              "      <td>1</td>\n",
              "      <td>0</td>\n",
              "      <td>0</td>\n",
              "      <td>0</td>\n",
              "      <td>0</td>\n",
              "      <td>0</td>\n",
              "      <td>0</td>\n",
              "      <td>1</td>\n",
              "      <td>0</td>\n",
              "      <td>0</td>\n",
              "      <td>0</td>\n",
              "      <td>0</td>\n",
              "      <td>0</td>\n",
              "      <td>1</td>\n",
              "      <td>0</td>\n",
              "      <td>0</td>\n",
              "      <td>0</td>\n",
              "      <td>0</td>\n",
              "      <td>1</td>\n",
              "      <td>0</td>\n",
              "      <td>0</td>\n",
              "      <td>0</td>\n",
              "      <td>0</td>\n",
              "      <td>0</td>\n",
              "      <td>0</td>\n",
              "      <td>0</td>\n",
              "      <td>1</td>\n",
              "      <td>0</td>\n",
              "      <td>0</td>\n",
              "      <td>0</td>\n",
              "    </tr>\n",
              "    <tr>\n",
              "      <th>5</th>\n",
              "      <td>NaN</td>\n",
              "      <td>R</td>\n",
              "      <td>NaN</td>\n",
              "      <td>NaN</td>\n",
              "      <td>NaN</td>\n",
              "      <td>NaN</td>\n",
              "      <td>NaN</td>\n",
              "      <td>NaN</td>\n",
              "      <td>NaN</td>\n",
              "      <td>NaN</td>\n",
              "      <td>NaN</td>\n",
              "      <td>NaN</td>\n",
              "      <td>NaN</td>\n",
              "      <td>NaN</td>\n",
              "      <td>RStudio</td>\n",
              "      <td>NaN</td>\n",
              "      <td>NaN</td>\n",
              "      <td>NaN</td>\n",
              "      <td>NaN</td>\n",
              "      <td>NaN</td>\n",
              "      <td>NaN</td>\n",
              "      <td>NaN</td>\n",
              "      <td>NaN</td>\n",
              "      <td>NaN</td>\n",
              "      <td>NaN</td>\n",
              "      <td>NaN</td>\n",
              "      <td>NaN</td>\n",
              "      <td>NaN</td>\n",
              "      <td>NaN</td>\n",
              "      <td>NaN</td>\n",
              "      <td>NaN</td>\n",
              "      <td>NaN</td>\n",
              "      <td>NaN</td>\n",
              "      <td>NaN</td>\n",
              "      <td>NaN</td>\n",
              "      <td>NaN</td>\n",
              "      <td>NaN</td>\n",
              "      <td>None</td>\n",
              "      <td>NaN</td>\n",
              "      <td>NaN</td>\n",
              "      <td>...</td>\n",
              "      <td>0</td>\n",
              "      <td>0</td>\n",
              "      <td>0</td>\n",
              "      <td>0</td>\n",
              "      <td>0</td>\n",
              "      <td>0</td>\n",
              "      <td>1</td>\n",
              "      <td>0</td>\n",
              "      <td>1</td>\n",
              "      <td>0</td>\n",
              "      <td>0</td>\n",
              "      <td>0</td>\n",
              "      <td>0</td>\n",
              "      <td>0</td>\n",
              "      <td>1</td>\n",
              "      <td>0</td>\n",
              "      <td>0</td>\n",
              "      <td>0</td>\n",
              "      <td>0</td>\n",
              "      <td>0</td>\n",
              "      <td>0</td>\n",
              "      <td>0</td>\n",
              "      <td>0</td>\n",
              "      <td>0</td>\n",
              "      <td>0</td>\n",
              "      <td>1</td>\n",
              "      <td>0</td>\n",
              "      <td>1</td>\n",
              "      <td>0</td>\n",
              "      <td>0</td>\n",
              "      <td>0</td>\n",
              "      <td>0</td>\n",
              "      <td>0</td>\n",
              "      <td>0</td>\n",
              "      <td>0</td>\n",
              "      <td>0</td>\n",
              "      <td>0</td>\n",
              "      <td>1</td>\n",
              "      <td>0</td>\n",
              "      <td>0</td>\n",
              "    </tr>\n",
              "  </tbody>\n",
              "</table>\n",
              "<p>5 rows × 468 columns</p>\n",
              "</div>"
            ],
            "text/plain": [
              "  Q7_Part_1 Q7_Part_2  ... Q38_Other Q38_Unknown\n",
              "1    Python         R  ...         0           0\n",
              "2       NaN       NaN  ...         0           0\n",
              "3    Python       NaN  ...         0           0\n",
              "4    Python       NaN  ...         0           0\n",
              "5       NaN         R  ...         0           0\n",
              "\n",
              "[5 rows x 468 columns]"
            ]
          },
          "metadata": {
            "tags": []
          },
          "execution_count": 17
        }
      ]
    },
    {
      "cell_type": "markdown",
      "metadata": {
        "id": "Lf-JAVGHBWG3"
      },
      "source": [
        "## Clean MC columns"
      ]
    },
    {
      "cell_type": "code",
      "metadata": {
        "id": "Mvp5bbLMNlBf"
      },
      "source": [
        "# Fill NaNs with 0 and others with 1\r\n",
        "dummies = features[mc_cols].fillna(0)\r\n",
        "dummies[dummies != 0] = 1\r\n",
        "features[mc_cols] = dummies"
      ],
      "execution_count": 18,
      "outputs": []
    },
    {
      "cell_type": "code",
      "metadata": {
        "colab": {
          "base_uri": "https://localhost:8080/",
          "height": 423
        },
        "id": "hPFbM4lvKkQa",
        "outputId": "387a1916-7a99-41d8-fb29-0a750bae8b49"
      },
      "source": [
        "features.head()"
      ],
      "execution_count": 19,
      "outputs": [
        {
          "output_type": "execute_result",
          "data": {
            "text/html": [
              "<div>\n",
              "<style scoped>\n",
              "    .dataframe tbody tr th:only-of-type {\n",
              "        vertical-align: middle;\n",
              "    }\n",
              "\n",
              "    .dataframe tbody tr th {\n",
              "        vertical-align: top;\n",
              "    }\n",
              "\n",
              "    .dataframe thead th {\n",
              "        text-align: right;\n",
              "    }\n",
              "</style>\n",
              "<table border=\"1\" class=\"dataframe\">\n",
              "  <thead>\n",
              "    <tr style=\"text-align: right;\">\n",
              "      <th></th>\n",
              "      <th>Q7_Part_1</th>\n",
              "      <th>Q7_Part_2</th>\n",
              "      <th>Q7_Part_3</th>\n",
              "      <th>Q7_Part_4</th>\n",
              "      <th>Q7_Part_5</th>\n",
              "      <th>Q7_Part_6</th>\n",
              "      <th>Q7_Part_7</th>\n",
              "      <th>Q7_Part_8</th>\n",
              "      <th>Q7_Part_9</th>\n",
              "      <th>Q7_Part_10</th>\n",
              "      <th>Q7_Part_11</th>\n",
              "      <th>Q7_Part_12</th>\n",
              "      <th>Q7_OTHER</th>\n",
              "      <th>Q9_Part_1</th>\n",
              "      <th>Q9_Part_2</th>\n",
              "      <th>Q9_Part_3</th>\n",
              "      <th>Q9_Part_4</th>\n",
              "      <th>Q9_Part_5</th>\n",
              "      <th>Q9_Part_6</th>\n",
              "      <th>Q9_Part_7</th>\n",
              "      <th>Q9_Part_8</th>\n",
              "      <th>Q9_Part_9</th>\n",
              "      <th>Q9_Part_10</th>\n",
              "      <th>Q9_Part_11</th>\n",
              "      <th>Q9_OTHER</th>\n",
              "      <th>Q10_Part_1</th>\n",
              "      <th>Q10_Part_2</th>\n",
              "      <th>Q10_Part_3</th>\n",
              "      <th>Q10_Part_4</th>\n",
              "      <th>Q10_Part_5</th>\n",
              "      <th>Q10_Part_6</th>\n",
              "      <th>Q10_Part_7</th>\n",
              "      <th>Q10_Part_8</th>\n",
              "      <th>Q10_Part_9</th>\n",
              "      <th>Q10_Part_10</th>\n",
              "      <th>Q10_Part_11</th>\n",
              "      <th>Q10_Part_12</th>\n",
              "      <th>Q10_Part_13</th>\n",
              "      <th>Q10_OTHER</th>\n",
              "      <th>Q12_Part_1</th>\n",
              "      <th>...</th>\n",
              "      <th>Q15_2-3 years</th>\n",
              "      <th>Q15_20 or more years</th>\n",
              "      <th>Q15_3-4 years</th>\n",
              "      <th>Q15_4-5 years</th>\n",
              "      <th>Q15_5-10 years</th>\n",
              "      <th>Q15_I do not use machine learning methods</th>\n",
              "      <th>Q15_Under 1 year</th>\n",
              "      <th>Q15_Unknown</th>\n",
              "      <th>Q20_0-49 employees</th>\n",
              "      <th>Q20_10,000 or more employees</th>\n",
              "      <th>Q20_1000-9,999 employees</th>\n",
              "      <th>Q20_250-999 employees</th>\n",
              "      <th>Q20_50-249 employees</th>\n",
              "      <th>Q21_0</th>\n",
              "      <th>Q21_1-2</th>\n",
              "      <th>Q21_10-14</th>\n",
              "      <th>Q21_15-19</th>\n",
              "      <th>Q21_20+</th>\n",
              "      <th>Q21_3-4</th>\n",
              "      <th>Q21_5-9</th>\n",
              "      <th>Q22_I do not know</th>\n",
              "      <th>Q22_No (we do not use ML methods)</th>\n",
              "      <th>Q22_We are exploring ML methods (and may one day put a model into production)</th>\n",
              "      <th>Q22_We have well established ML methods (i.e., models in production for more than 2 years)</th>\n",
              "      <th>Q22_We recently started using ML methods (i.e., models in production for less than 2 years)</th>\n",
              "      <th>Q22_We use ML methods for generating insights (but do not put working models into production)</th>\n",
              "      <th>Q25_$0 ($USD)</th>\n",
              "      <th>Q25_$1-$99</th>\n",
              "      <th>Q25_$10,000-$99,999</th>\n",
              "      <th>Q25_$100,000 or more ($USD)</th>\n",
              "      <th>Q25_$100-$999</th>\n",
              "      <th>Q25_$1000-$9,999</th>\n",
              "      <th>Q25_Unknown</th>\n",
              "      <th>Q38_Advanced statistical software (SPSS, SAS, etc.)</th>\n",
              "      <th>Q38_Basic statistical software (Microsoft Excel, Google Sheets, etc.)</th>\n",
              "      <th>Q38_Business intelligence software (Salesforce, Tableau, Spotfire, etc.)</th>\n",
              "      <th>Q38_Cloud-based data software &amp; APIs (AWS, GCP, Azure, etc.)</th>\n",
              "      <th>Q38_Local development environments (RStudio, JupyterLab, etc.)</th>\n",
              "      <th>Q38_Other</th>\n",
              "      <th>Q38_Unknown</th>\n",
              "    </tr>\n",
              "  </thead>\n",
              "  <tbody>\n",
              "    <tr>\n",
              "      <th>1</th>\n",
              "      <td>1</td>\n",
              "      <td>1</td>\n",
              "      <td>1</td>\n",
              "      <td>0</td>\n",
              "      <td>0</td>\n",
              "      <td>0</td>\n",
              "      <td>0</td>\n",
              "      <td>0</td>\n",
              "      <td>0</td>\n",
              "      <td>0</td>\n",
              "      <td>0</td>\n",
              "      <td>0</td>\n",
              "      <td>0</td>\n",
              "      <td>0</td>\n",
              "      <td>0</td>\n",
              "      <td>1</td>\n",
              "      <td>0</td>\n",
              "      <td>1</td>\n",
              "      <td>0</td>\n",
              "      <td>0</td>\n",
              "      <td>1</td>\n",
              "      <td>0</td>\n",
              "      <td>0</td>\n",
              "      <td>0</td>\n",
              "      <td>0</td>\n",
              "      <td>0</td>\n",
              "      <td>1</td>\n",
              "      <td>0</td>\n",
              "      <td>0</td>\n",
              "      <td>0</td>\n",
              "      <td>0</td>\n",
              "      <td>0</td>\n",
              "      <td>0</td>\n",
              "      <td>0</td>\n",
              "      <td>0</td>\n",
              "      <td>0</td>\n",
              "      <td>0</td>\n",
              "      <td>0</td>\n",
              "      <td>0</td>\n",
              "      <td>1</td>\n",
              "      <td>...</td>\n",
              "      <td>0</td>\n",
              "      <td>0</td>\n",
              "      <td>0</td>\n",
              "      <td>0</td>\n",
              "      <td>0</td>\n",
              "      <td>0</td>\n",
              "      <td>0</td>\n",
              "      <td>0</td>\n",
              "      <td>0</td>\n",
              "      <td>1</td>\n",
              "      <td>0</td>\n",
              "      <td>0</td>\n",
              "      <td>0</td>\n",
              "      <td>0</td>\n",
              "      <td>0</td>\n",
              "      <td>0</td>\n",
              "      <td>0</td>\n",
              "      <td>1</td>\n",
              "      <td>0</td>\n",
              "      <td>0</td>\n",
              "      <td>0</td>\n",
              "      <td>0</td>\n",
              "      <td>0</td>\n",
              "      <td>1</td>\n",
              "      <td>0</td>\n",
              "      <td>0</td>\n",
              "      <td>0</td>\n",
              "      <td>0</td>\n",
              "      <td>0</td>\n",
              "      <td>1</td>\n",
              "      <td>0</td>\n",
              "      <td>0</td>\n",
              "      <td>0</td>\n",
              "      <td>0</td>\n",
              "      <td>0</td>\n",
              "      <td>1</td>\n",
              "      <td>0</td>\n",
              "      <td>0</td>\n",
              "      <td>0</td>\n",
              "      <td>0</td>\n",
              "    </tr>\n",
              "    <tr>\n",
              "      <th>2</th>\n",
              "      <td>0</td>\n",
              "      <td>0</td>\n",
              "      <td>0</td>\n",
              "      <td>0</td>\n",
              "      <td>0</td>\n",
              "      <td>1</td>\n",
              "      <td>1</td>\n",
              "      <td>0</td>\n",
              "      <td>0</td>\n",
              "      <td>1</td>\n",
              "      <td>0</td>\n",
              "      <td>0</td>\n",
              "      <td>0</td>\n",
              "      <td>0</td>\n",
              "      <td>0</td>\n",
              "      <td>0</td>\n",
              "      <td>1</td>\n",
              "      <td>0</td>\n",
              "      <td>0</td>\n",
              "      <td>1</td>\n",
              "      <td>1</td>\n",
              "      <td>1</td>\n",
              "      <td>0</td>\n",
              "      <td>0</td>\n",
              "      <td>0</td>\n",
              "      <td>0</td>\n",
              "      <td>0</td>\n",
              "      <td>0</td>\n",
              "      <td>0</td>\n",
              "      <td>0</td>\n",
              "      <td>0</td>\n",
              "      <td>0</td>\n",
              "      <td>0</td>\n",
              "      <td>0</td>\n",
              "      <td>0</td>\n",
              "      <td>0</td>\n",
              "      <td>0</td>\n",
              "      <td>1</td>\n",
              "      <td>0</td>\n",
              "      <td>0</td>\n",
              "      <td>...</td>\n",
              "      <td>0</td>\n",
              "      <td>0</td>\n",
              "      <td>0</td>\n",
              "      <td>0</td>\n",
              "      <td>0</td>\n",
              "      <td>1</td>\n",
              "      <td>0</td>\n",
              "      <td>0</td>\n",
              "      <td>0</td>\n",
              "      <td>0</td>\n",
              "      <td>1</td>\n",
              "      <td>0</td>\n",
              "      <td>0</td>\n",
              "      <td>1</td>\n",
              "      <td>0</td>\n",
              "      <td>0</td>\n",
              "      <td>0</td>\n",
              "      <td>0</td>\n",
              "      <td>0</td>\n",
              "      <td>0</td>\n",
              "      <td>0</td>\n",
              "      <td>1</td>\n",
              "      <td>0</td>\n",
              "      <td>0</td>\n",
              "      <td>0</td>\n",
              "      <td>0</td>\n",
              "      <td>1</td>\n",
              "      <td>0</td>\n",
              "      <td>0</td>\n",
              "      <td>0</td>\n",
              "      <td>0</td>\n",
              "      <td>0</td>\n",
              "      <td>0</td>\n",
              "      <td>0</td>\n",
              "      <td>1</td>\n",
              "      <td>0</td>\n",
              "      <td>0</td>\n",
              "      <td>0</td>\n",
              "      <td>0</td>\n",
              "      <td>0</td>\n",
              "    </tr>\n",
              "    <tr>\n",
              "      <th>3</th>\n",
              "      <td>1</td>\n",
              "      <td>0</td>\n",
              "      <td>1</td>\n",
              "      <td>0</td>\n",
              "      <td>0</td>\n",
              "      <td>0</td>\n",
              "      <td>0</td>\n",
              "      <td>0</td>\n",
              "      <td>0</td>\n",
              "      <td>1</td>\n",
              "      <td>0</td>\n",
              "      <td>0</td>\n",
              "      <td>0</td>\n",
              "      <td>0</td>\n",
              "      <td>0</td>\n",
              "      <td>0</td>\n",
              "      <td>0</td>\n",
              "      <td>1</td>\n",
              "      <td>0</td>\n",
              "      <td>0</td>\n",
              "      <td>0</td>\n",
              "      <td>0</td>\n",
              "      <td>0</td>\n",
              "      <td>0</td>\n",
              "      <td>0</td>\n",
              "      <td>0</td>\n",
              "      <td>0</td>\n",
              "      <td>0</td>\n",
              "      <td>0</td>\n",
              "      <td>0</td>\n",
              "      <td>0</td>\n",
              "      <td>0</td>\n",
              "      <td>0</td>\n",
              "      <td>0</td>\n",
              "      <td>0</td>\n",
              "      <td>0</td>\n",
              "      <td>0</td>\n",
              "      <td>1</td>\n",
              "      <td>0</td>\n",
              "      <td>0</td>\n",
              "      <td>...</td>\n",
              "      <td>0</td>\n",
              "      <td>0</td>\n",
              "      <td>1</td>\n",
              "      <td>0</td>\n",
              "      <td>0</td>\n",
              "      <td>0</td>\n",
              "      <td>0</td>\n",
              "      <td>0</td>\n",
              "      <td>0</td>\n",
              "      <td>0</td>\n",
              "      <td>0</td>\n",
              "      <td>1</td>\n",
              "      <td>0</td>\n",
              "      <td>0</td>\n",
              "      <td>0</td>\n",
              "      <td>0</td>\n",
              "      <td>0</td>\n",
              "      <td>0</td>\n",
              "      <td>0</td>\n",
              "      <td>1</td>\n",
              "      <td>0</td>\n",
              "      <td>0</td>\n",
              "      <td>0</td>\n",
              "      <td>1</td>\n",
              "      <td>0</td>\n",
              "      <td>0</td>\n",
              "      <td>0</td>\n",
              "      <td>0</td>\n",
              "      <td>1</td>\n",
              "      <td>0</td>\n",
              "      <td>0</td>\n",
              "      <td>0</td>\n",
              "      <td>0</td>\n",
              "      <td>0</td>\n",
              "      <td>0</td>\n",
              "      <td>0</td>\n",
              "      <td>0</td>\n",
              "      <td>1</td>\n",
              "      <td>0</td>\n",
              "      <td>0</td>\n",
              "    </tr>\n",
              "    <tr>\n",
              "      <th>4</th>\n",
              "      <td>1</td>\n",
              "      <td>0</td>\n",
              "      <td>1</td>\n",
              "      <td>0</td>\n",
              "      <td>0</td>\n",
              "      <td>0</td>\n",
              "      <td>0</td>\n",
              "      <td>0</td>\n",
              "      <td>0</td>\n",
              "      <td>1</td>\n",
              "      <td>0</td>\n",
              "      <td>0</td>\n",
              "      <td>0</td>\n",
              "      <td>1</td>\n",
              "      <td>0</td>\n",
              "      <td>0</td>\n",
              "      <td>0</td>\n",
              "      <td>1</td>\n",
              "      <td>0</td>\n",
              "      <td>0</td>\n",
              "      <td>1</td>\n",
              "      <td>1</td>\n",
              "      <td>0</td>\n",
              "      <td>0</td>\n",
              "      <td>0</td>\n",
              "      <td>1</td>\n",
              "      <td>1</td>\n",
              "      <td>0</td>\n",
              "      <td>0</td>\n",
              "      <td>0</td>\n",
              "      <td>0</td>\n",
              "      <td>0</td>\n",
              "      <td>0</td>\n",
              "      <td>0</td>\n",
              "      <td>0</td>\n",
              "      <td>0</td>\n",
              "      <td>0</td>\n",
              "      <td>0</td>\n",
              "      <td>0</td>\n",
              "      <td>1</td>\n",
              "      <td>...</td>\n",
              "      <td>1</td>\n",
              "      <td>0</td>\n",
              "      <td>0</td>\n",
              "      <td>0</td>\n",
              "      <td>0</td>\n",
              "      <td>0</td>\n",
              "      <td>0</td>\n",
              "      <td>0</td>\n",
              "      <td>0</td>\n",
              "      <td>0</td>\n",
              "      <td>1</td>\n",
              "      <td>0</td>\n",
              "      <td>0</td>\n",
              "      <td>0</td>\n",
              "      <td>0</td>\n",
              "      <td>0</td>\n",
              "      <td>0</td>\n",
              "      <td>1</td>\n",
              "      <td>0</td>\n",
              "      <td>0</td>\n",
              "      <td>0</td>\n",
              "      <td>0</td>\n",
              "      <td>0</td>\n",
              "      <td>1</td>\n",
              "      <td>0</td>\n",
              "      <td>0</td>\n",
              "      <td>0</td>\n",
              "      <td>0</td>\n",
              "      <td>1</td>\n",
              "      <td>0</td>\n",
              "      <td>0</td>\n",
              "      <td>0</td>\n",
              "      <td>0</td>\n",
              "      <td>0</td>\n",
              "      <td>0</td>\n",
              "      <td>0</td>\n",
              "      <td>1</td>\n",
              "      <td>0</td>\n",
              "      <td>0</td>\n",
              "      <td>0</td>\n",
              "    </tr>\n",
              "    <tr>\n",
              "      <th>5</th>\n",
              "      <td>0</td>\n",
              "      <td>1</td>\n",
              "      <td>0</td>\n",
              "      <td>0</td>\n",
              "      <td>0</td>\n",
              "      <td>0</td>\n",
              "      <td>0</td>\n",
              "      <td>0</td>\n",
              "      <td>0</td>\n",
              "      <td>0</td>\n",
              "      <td>0</td>\n",
              "      <td>0</td>\n",
              "      <td>0</td>\n",
              "      <td>0</td>\n",
              "      <td>1</td>\n",
              "      <td>0</td>\n",
              "      <td>0</td>\n",
              "      <td>0</td>\n",
              "      <td>0</td>\n",
              "      <td>0</td>\n",
              "      <td>0</td>\n",
              "      <td>0</td>\n",
              "      <td>0</td>\n",
              "      <td>0</td>\n",
              "      <td>0</td>\n",
              "      <td>0</td>\n",
              "      <td>0</td>\n",
              "      <td>0</td>\n",
              "      <td>0</td>\n",
              "      <td>0</td>\n",
              "      <td>0</td>\n",
              "      <td>0</td>\n",
              "      <td>0</td>\n",
              "      <td>0</td>\n",
              "      <td>0</td>\n",
              "      <td>0</td>\n",
              "      <td>0</td>\n",
              "      <td>1</td>\n",
              "      <td>0</td>\n",
              "      <td>0</td>\n",
              "      <td>...</td>\n",
              "      <td>0</td>\n",
              "      <td>0</td>\n",
              "      <td>0</td>\n",
              "      <td>0</td>\n",
              "      <td>0</td>\n",
              "      <td>0</td>\n",
              "      <td>1</td>\n",
              "      <td>0</td>\n",
              "      <td>1</td>\n",
              "      <td>0</td>\n",
              "      <td>0</td>\n",
              "      <td>0</td>\n",
              "      <td>0</td>\n",
              "      <td>0</td>\n",
              "      <td>1</td>\n",
              "      <td>0</td>\n",
              "      <td>0</td>\n",
              "      <td>0</td>\n",
              "      <td>0</td>\n",
              "      <td>0</td>\n",
              "      <td>0</td>\n",
              "      <td>0</td>\n",
              "      <td>0</td>\n",
              "      <td>0</td>\n",
              "      <td>0</td>\n",
              "      <td>1</td>\n",
              "      <td>0</td>\n",
              "      <td>1</td>\n",
              "      <td>0</td>\n",
              "      <td>0</td>\n",
              "      <td>0</td>\n",
              "      <td>0</td>\n",
              "      <td>0</td>\n",
              "      <td>0</td>\n",
              "      <td>0</td>\n",
              "      <td>0</td>\n",
              "      <td>0</td>\n",
              "      <td>1</td>\n",
              "      <td>0</td>\n",
              "      <td>0</td>\n",
              "    </tr>\n",
              "  </tbody>\n",
              "</table>\n",
              "<p>5 rows × 468 columns</p>\n",
              "</div>"
            ],
            "text/plain": [
              "  Q7_Part_1 Q7_Part_2  ... Q38_Other Q38_Unknown\n",
              "1         1         1  ...         0           0\n",
              "2         0         0  ...         0           0\n",
              "3         1         0  ...         0           0\n",
              "4         1         0  ...         0           0\n",
              "5         0         1  ...         0           0\n",
              "\n",
              "[5 rows x 468 columns]"
            ]
          },
          "metadata": {
            "tags": []
          },
          "execution_count": 19
        }
      ]
    },
    {
      "cell_type": "code",
      "metadata": {
        "id": "ELuv17b_NRyn"
      },
      "source": [
        "# turn into array\r\n",
        "feature_col_names = features.columns\r\n",
        "features = features.values\r\n",
        "targets = targets.values"
      ],
      "execution_count": 20,
      "outputs": []
    },
    {
      "cell_type": "markdown",
      "metadata": {
        "id": "sy2UaoXGUESU"
      },
      "source": [
        "# Split train test"
      ]
    },
    {
      "cell_type": "code",
      "metadata": {
        "colab": {
          "base_uri": "https://localhost:8080/"
        },
        "id": "2yhZWPPHUDCd",
        "outputId": "f07646fe-f9b7-4dbc-f3d2-d2e021388c5c"
      },
      "source": [
        "from sklearn.model_selection import train_test_split\r\n",
        "X_train, X_test, y_train, y_test = train_test_split(\r\n",
        "     features, targets, test_size=0.2, random_state=42)\r\n",
        "print(f\"Shape of train features: {X_train.shape}\")\r\n",
        "print(f\"Shape of test features: {X_test.shape}\")"
      ],
      "execution_count": 21,
      "outputs": [
        {
          "output_type": "stream",
          "text": [
            "Shape of train features: (8583, 468)\n",
            "Shape of test features: (2146, 468)\n"
          ],
          "name": "stdout"
        }
      ]
    },
    {
      "cell_type": "markdown",
      "metadata": {
        "id": "BatbEoJjQg10"
      },
      "source": [
        "# Question 2: Exploratory data analysis and feature selection "
      ]
    },
    {
      "cell_type": "code",
      "metadata": {
        "id": "Res0W5mWE76R"
      },
      "source": [
        "from sklearn.feature_selection import SelectKBest, mutual_info_classif\r\n",
        "sel = SelectKBest(mutual_info_classif, k=20)\r\n",
        "X_train = sel.fit_transform(X_train, y_train)\r\n",
        "X_test = sel.transform(X_test)"
      ],
      "execution_count": 22,
      "outputs": []
    },
    {
      "cell_type": "code",
      "metadata": {
        "colab": {
          "base_uri": "https://localhost:8080/"
        },
        "id": "sCq8jk1KnY10",
        "outputId": "387da21b-e98b-4e47-a3e0-f007fc233b57"
      },
      "source": [
        "# k most important features\r\n",
        "feature_col_names[sel.get_support(indices=True)]"
      ],
      "execution_count": 23,
      "outputs": [
        {
          "output_type": "execute_result",
          "data": {
            "text/plain": [
              "Index(['Q23_Part_3', 'Q26_A_Part_1', 'Q27_A_Part_1', 'Q1_18-21', 'Q1_22-24',\n",
              "       'Q3_India', 'Q3_Japan', 'Q3_Spain', 'Q3_United States of America',\n",
              "       'Q6_20+ years', 'Q6_< 1 years', 'Q15_10-20 years', 'Q15_5-10 years',\n",
              "       'Q20_0-49 employees', 'Q20_10,000 or more employees', 'Q21_0',\n",
              "       'Q21_20+',\n",
              "       'Q22_We have well established ML methods (i.e., models in production for more than 2 years)',\n",
              "       'Q25_$1-$99', 'Q25_$100,000 or more ($USD)'],\n",
              "      dtype='object')"
            ]
          },
          "metadata": {
            "tags": []
          },
          "execution_count": 23
        }
      ]
    },
    {
      "cell_type": "code",
      "metadata": {
        "colab": {
          "base_uri": "https://localhost:8080/",
          "height": 265
        },
        "id": "o-jyUQbqgHU9",
        "outputId": "a632d14d-d091-4cb4-a515-37f71ef0924e"
      },
      "source": [
        "# plot feature importances of all feature\r\n",
        "plt.bar([x for x in range(len(sel.scores_))], sel.scores_)\r\n",
        "plt.show()"
      ],
      "execution_count": 24,
      "outputs": [
        {
          "output_type": "display_data",
          "data": {
            "image/png": "[encoded data removed]",
            "text/plain": [
              "<Figure size 432x288 with 1 Axes>"
            ]
          },
          "metadata": {
            "tags": [],
            "needs_background": "light"
          }
        }
      ]
    },
    {
      "cell_type": "markdown",
      "metadata": {
        "id": "t8ooPBe0J5tW"
      },
      "source": [
        "# Question 3 Model implementation"
      ]
    },
    {
      "cell_type": "code",
      "metadata": {
        "id": "T5Q_L5cm37mQ"
      },
      "source": [
        "from sklearn.linear_model import LogisticRegression\r\n",
        "# Ordinal logistic regression\r\n",
        "\r\n",
        "class OrdinalLogits():\r\n",
        "  def __init__(self, n_class, hyperparams={}):\r\n",
        "    self.clfs = {}\r\n",
        "    self.n_class = n_class\r\n",
        "    self.hyperparams = hyperparams\r\n",
        "\r\n",
        "  def fit(self, X, y):\r\n",
        "    classes = np.unique(y)\r\n",
        "    for cls in classes:\r\n",
        "      if cls == np.max(classes):\r\n",
        "        continue\r\n",
        "      cls_0_idx = y <= cls\r\n",
        "      cls_1_idx = y > cls\r\n",
        "      ordinal_y = np.array(y)\r\n",
        "      ordinal_y[cls_0_idx] = 0\r\n",
        "      ordinal_y[cls_1_idx] = 1\r\n",
        "      clf = LogisticRegression(**self.hyperparams).fit(X, ordinal_y)\r\n",
        "      self.clfs[int(cls)] = clf\r\n",
        "\r\n",
        "\r\n",
        "  def predict(self, X):\r\n",
        "    probs = np.zeros((X.shape[0], self.n_class))\r\n",
        "    for cls in range(self.n_class):\r\n",
        "      if cls == self.n_class-1:\r\n",
        "        clf = self.clfs[cls-1]\r\n",
        "      else:\r\n",
        "        clf = self.clfs[cls]\r\n",
        "      predicted_y = clf.predict_proba(X)\r\n",
        "\r\n",
        "      if cls == 0:\r\n",
        "        probs[:, 0] = predicted_y[:, 0]\r\n",
        "      elif cls == self.n_class-1:\r\n",
        "        probs[:, self.n_class-1] = predicted_y[:, 1]\r\n",
        "      else:\r\n",
        "        prev_clf_probs = self.clfs[cls-1].predict_proba(X)\r\n",
        "        probs[:, cls] = predicted_y[:, 0] - prev_clf_probs[:, 0]\r\n",
        "    predictions = np.argmax(probs, axis=1)\r\n",
        "    return predictions\r\n",
        "\r\n",
        "  def get_hyperparams(self):\r\n",
        "    return self.hyperparams\r\n"
      ],
      "execution_count": 25,
      "outputs": []
    },
    {
      "cell_type": "code",
      "metadata": {
        "id": "gGRqf_RPqFup"
      },
      "source": [
        "f1_avg = 'macro'"
      ],
      "execution_count": 26,
      "outputs": []
    },
    {
      "cell_type": "code",
      "metadata": {
        "id": "6kV34jU0uL7x"
      },
      "source": [
        "from sklearn.model_selection import StratifiedKFold\r\n",
        "from sklearn.metrics import f1_score, accuracy_score\r\n",
        "def run_kfold(X, y, model, f1_avg, n_splits=10):  \r\n",
        "    skf = StratifiedKFold(n_splits=n_splits)\r\n",
        "    f1_val = np.zeros(n_splits)\r\n",
        "    fold = 0\r\n",
        "    \r\n",
        "    for train_index, val_index in skf.split(X, y):\r\n",
        "        X_train, X_val = X[train_index], X[val_index]\r\n",
        "        y_train, y_val = y[train_index], y[val_index]\r\n",
        "        \r\n",
        "        model.fit(X_train, y_train)\r\n",
        "        predictions_train = model.predict(X_train)\r\n",
        "        predictions_val = model.predict(X_val)\r\n",
        "        \r\n",
        "        f1_val[fold] = f1_score(y_val, predictions_val, average=f1_avg)\r\n",
        "       \r\n",
        "        fold += 1   \r\n",
        "        \r\n",
        "    f1_mean = np.mean(f1_val)\r\n",
        "    f1_var=np.var(f1_val)\r\n",
        "    return f1_mean, f1_var "
      ],
      "execution_count": 27,
      "outputs": []
    },
    {
      "cell_type": "markdown",
      "metadata": {
        "id": "2Vp2V6xyCw0S"
      },
      "source": [
        "# Question 4"
      ]
    },
    {
      "cell_type": "code",
      "metadata": {
        "colab": {
          "base_uri": "https://localhost:8080/"
        },
        "id": "CSwOxYLizHft",
        "outputId": "fa251ba3-9909-4a79-fa24-14c539548962"
      },
      "source": [
        "from sklearn.model_selection import ParameterGrid\r\n",
        "def tune_hyperparams(X, y, params, f1_avg, n_fold=10):\r\n",
        "  n_class = len(np.unique(y))\r\n",
        "  param_grid = list(ParameterGrid(params))\r\n",
        "  model_scores = {}\r\n",
        "  for param in param_grid:\r\n",
        "    print(f\"Running {n_fold}-fold with hyperparameters: {param}\")\r\n",
        "    model = OrdinalLogits(n_class=n_class, hyperparams = param)\r\n",
        "    f1_mean, f1_var = run_kfold(X, y, model, f1_avg, n_fold)\r\n",
        "    model_scores[f1_mean] = model\r\n",
        "    print(f\"Ending with {round(f1_mean, 3)} f1-score mean and {round(f1_var, 6)} f1-score variance\")\r\n",
        "  # return the model with the best f1 score\r\n",
        "  return model_scores[max(model_scores, key=float)]\r\n",
        "param_grid = {'C': [0.01, 0.1, 1, 10, 50, 100], 'class_weight': ['balanced', None]}\r\n",
        "best_model = tune_hyperparams(X_train, y_train, param_grid, f1_avg)"
      ],
      "execution_count": 28,
      "outputs": [
        {
          "output_type": "stream",
          "text": [
            "Running 10-fold with hyperparameters: {'C': 0.01, 'class_weight': 'balanced'}\n",
            "Ending with 0.049 f1-score mean and 1e-06 f1-score variance\n",
            "Running 10-fold with hyperparameters: {'C': 0.01, 'class_weight': None}\n",
            "Ending with 0.075 f1-score mean and 2e-05 f1-score variance\n",
            "Running 10-fold with hyperparameters: {'C': 0.1, 'class_weight': 'balanced'}\n",
            "Ending with 0.051 f1-score mean and 6e-06 f1-score variance\n",
            "Running 10-fold with hyperparameters: {'C': 0.1, 'class_weight': None}\n",
            "Ending with 0.096 f1-score mean and 2.8e-05 f1-score variance\n",
            "Running 10-fold with hyperparameters: {'C': 1, 'class_weight': 'balanced'}\n",
            "Ending with 0.053 f1-score mean and 7e-06 f1-score variance\n",
            "Running 10-fold with hyperparameters: {'C': 1, 'class_weight': None}\n",
            "Ending with 0.107 f1-score mean and 9.4e-05 f1-score variance\n",
            "Running 10-fold with hyperparameters: {'C': 10, 'class_weight': 'balanced'}\n",
            "Ending with 0.054 f1-score mean and 8e-06 f1-score variance\n",
            "Running 10-fold with hyperparameters: {'C': 10, 'class_weight': None}\n",
            "Ending with 0.107 f1-score mean and 0.000125 f1-score variance\n",
            "Running 10-fold with hyperparameters: {'C': 50, 'class_weight': 'balanced'}\n",
            "Ending with 0.054 f1-score mean and 8e-06 f1-score variance\n",
            "Running 10-fold with hyperparameters: {'C': 50, 'class_weight': None}\n",
            "Ending with 0.107 f1-score mean and 0.000126 f1-score variance\n",
            "Running 10-fold with hyperparameters: {'C': 100, 'class_weight': 'balanced'}\n",
            "Ending with 0.054 f1-score mean and 8e-06 f1-score variance\n",
            "Running 10-fold with hyperparameters: {'C': 100, 'class_weight': None}\n",
            "Ending with 0.107 f1-score mean and 0.000126 f1-score variance\n"
          ],
          "name": "stdout"
        }
      ]
    },
    {
      "cell_type": "code",
      "metadata": {
        "colab": {
          "base_uri": "https://localhost:8080/"
        },
        "id": "baWv1gUTIOYh",
        "outputId": "def799ae-5116-4be5-a7cd-6a15051932a2"
      },
      "source": [
        "best_model.get_hyperparams()"
      ],
      "execution_count": 29,
      "outputs": [
        {
          "output_type": "execute_result",
          "data": {
            "text/plain": [
              "{'C': 1, 'class_weight': None}"
            ]
          },
          "metadata": {
            "tags": []
          },
          "execution_count": 29
        }
      ]
    },
    {
      "cell_type": "code",
      "metadata": {
        "colab": {
          "base_uri": "https://localhost:8080/"
        },
        "id": "q-uAc01_JqB7",
        "outputId": "aae64b78-c93f-4ae9-ab1d-3797312cff60"
      },
      "source": [
        "f1_mean, f1_var = run_kfold(X_train, y_train, best_model, f1_avg)\r\n",
        "print(f'The average f1 score on 10-fold using the best model: {round(f1_mean, 3)}')\r\n",
        "print(f'The variance of f1 scores on 10-fold using the best model: {round(f1_var, 6)}')"
      ],
      "execution_count": 30,
      "outputs": [
        {
          "output_type": "stream",
          "text": [
            "The average f1 score on 10-fold using the best model: 0.107\n",
            "The variance of f1 scores on 10-fold using the best model: 9.4e-05\n"
          ],
          "name": "stdout"
        }
      ]
    },
    {
      "cell_type": "markdown",
      "metadata": {
        "id": "iMB7ZGAmCy5w"
      },
      "source": [
        "# Question 5"
      ]
    },
    {
      "cell_type": "code",
      "metadata": {
        "colab": {
          "base_uri": "https://localhost:8080/"
        },
        "id": "yxtNUGeiEz1C",
        "outputId": "6442e27f-ea6f-4668-c4da-faeb0ebc8bab"
      },
      "source": [
        "prediction_train = best_model.predict(X_train)\r\n",
        "f1_score(y_train, prediction_train, average=f1_avg)"
      ],
      "execution_count": 31,
      "outputs": [
        {
          "output_type": "execute_result",
          "data": {
            "text/plain": [
              "0.11335840558348753"
            ]
          },
          "metadata": {
            "tags": []
          },
          "execution_count": 31
        }
      ]
    },
    {
      "cell_type": "code",
      "metadata": {
        "colab": {
          "base_uri": "https://localhost:8080/"
        },
        "id": "5YtqlKimBfo5",
        "outputId": "099a7bf0-e6ac-4f93-f85f-a8e96467cab8"
      },
      "source": [
        "prediction_test = best_model.predict(X_test)\r\n",
        "f1_score(y_test, prediction_test, average=f1_avg)"
      ],
      "execution_count": 32,
      "outputs": [
        {
          "output_type": "execute_result",
          "data": {
            "text/plain": [
              "0.09457318887226464"
            ]
          },
          "metadata": {
            "tags": []
          },
          "execution_count": 32
        }
      ]
    },
    {
      "cell_type": "code",
      "metadata": {
        "colab": {
          "base_uri": "https://localhost:8080/",
          "height": 298
        },
        "id": "xeETuAV4GKbU",
        "outputId": "9df1509b-00a4-4270-ada1-e4ae8e2a199f"
      },
      "source": [
        "fig, (ax1, ax2) = plt.subplots(1, 2)\r\n",
        "ax1.hist(y_train, bins=15)\r\n",
        "ax1.set_title('Training set true labels')\r\n",
        "ax2.hist(prediction_train, bins=15)\r\n",
        "ax2.set_title('Training set predictions')"
      ],
      "execution_count": 33,
      "outputs": [
        {
          "output_type": "execute_result",
          "data": {
            "text/plain": [
              "Text(0.5, 1.0, 'Training set predictions')"
            ]
          },
          "metadata": {
            "tags": []
          },
          "execution_count": 33
        },
        {
          "output_type": "display_data",
          "data": {
            "image/png": "[encoded data removed]",
            "text/plain": [
              "<Figure size 432x288 with 2 Axes>"
            ]
          },
          "metadata": {
            "tags": [],
            "needs_background": "light"
          }
        }
      ]
    },
    {
      "cell_type": "code",
      "metadata": {
        "colab": {
          "base_uri": "https://localhost:8080/",
          "height": 298
        },
        "id": "EY4kWcYaG1Ww",
        "outputId": "d9317021-c8df-484e-80a5-05df23788d89"
      },
      "source": [
        "fig, (ax1, ax2) = plt.subplots(1, 2)\r\n",
        "ax1.hist(y_test, bins=15)\r\n",
        "ax1.set_title('Testing set true labels')\r\n",
        "ax2.hist(prediction_test, bins=15)\r\n",
        "ax2.set_title('Testing set predictions')"
      ],
      "execution_count": 34,
      "outputs": [
        {
          "output_type": "execute_result",
          "data": {
            "text/plain": [
              "Text(0.5, 1.0, 'Testing set predictions')"
            ]
          },
          "metadata": {
            "tags": []
          },
          "execution_count": 34
        },
        {
          "output_type": "display_data",
          "data": {
            "image/png": "[encoded data removed]",
            "text/plain": [
              "<Figure size 432x288 with 2 Axes>"
            ]
          },
          "metadata": {
            "tags": [],
            "needs_background": "light"
          }
        }
      ]
    }
  ]
}
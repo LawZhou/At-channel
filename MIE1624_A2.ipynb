{
  "nbformat": 4,
  "nbformat_minor": 0,
  "metadata": {
    "colab": {
      "name": "MIE1624_A2.ipynb",
      "provenance": [],
      "mount_file_id": "1-TsJ6hFcHk8u0ruaLPBo_DzVmLJ267lg",
      "authorship_tag": "ABX9TyOXZysHzKL2+lTGMoYQfCzd",
      "include_colab_link": true
    },
    "kernelspec": {
      "name": "python3",
      "display_name": "Python 3"
    }
  },
  "cells": [
    {
      "cell_type": "markdown",
      "metadata": {
        "id": "view-in-github",
        "colab_type": "text"
      },
      "source": [
        "<a href=\"https://colab.research.google.com/github/LawZhou/AtChannel-decentralized-video-platform/blob/master/MIE1624_A2.ipynb\" target=\"_parent\"><img src=\"https://colab.research.google.com/assets/colab-badge.svg\" alt=\"Open In Colab\"/></a>"
      ]
    },
    {
      "cell_type": "code",
      "metadata": {
        "id": "AHWVMqJV73CA"
      },
      "source": [
        "import matplotlib.pyplot as plt\r\n",
        "import pandas as pd\r\n",
        "import numpy as np\r\n",
        "df = pd.read_csv(\"/content/drive/MyDrive/Colab Notebooks/clean_kaggle_data_2020.csv\",\r\n",
        "                 low_memory=False)\r\n",
        "# df = pd.read_csv(\"data/clean_kaggle_data.csv\", low_memory=False)\r\n",
        "features = df.iloc[1:, :-2].copy()\r\n",
        "# col Q4_Encoded\r\n",
        "targets = df.iloc[1:, -2].copy()"
      ],
      "execution_count": 93,
      "outputs": []
    },
    {
      "cell_type": "markdown",
      "metadata": {
        "id": "uwfBVA6e9LNH"
      },
      "source": [
        "# Question 1: Data cleaning"
      ]
    },
    {
      "cell_type": "code",
      "metadata": {
        "colab": {
          "base_uri": "https://localhost:8080/"
        },
        "id": "xbGyCYM-5sat",
        "outputId": "9975ec02-c44e-4350-e5a2-2bf8d3d68c0c"
      },
      "source": [
        "features.shape"
      ],
      "execution_count": 94,
      "outputs": [
        {
          "output_type": "execute_result",
          "data": {
            "text/plain": [
              "(10729, 355)"
            ]
          },
          "metadata": {
            "tags": []
          },
          "execution_count": 94
        }
      ]
    },
    {
      "cell_type": "code",
      "metadata": {
        "id": "sgwU82YN-n15"
      },
      "source": [
        "num_col = ['Time from Start to Finish (seconds)']\r\n",
        "# Not multiple choice columns\r\n",
        "not_mc_cols = []\r\n",
        "for col in features.columns:\r\n",
        "  if '_' not in col and col not in num_col:\r\n",
        "    not_mc_cols.append(col)"
      ],
      "execution_count": 95,
      "outputs": []
    },
    {
      "cell_type": "code",
      "metadata": {
        "id": "fsy4KYS5KwlK"
      },
      "source": [
        "mc_cols = []\r\n",
        "# Multiple choice columns\r\n",
        "for col in features.columns:\r\n",
        "  if col not in not_mc_cols and col not in num_col:\r\n",
        "    mc_cols.append(col)"
      ],
      "execution_count": 96,
      "outputs": []
    },
    {
      "cell_type": "markdown",
      "metadata": {
        "id": "cKWsuHQjBR4H"
      },
      "source": [
        "## Clean non-MC columns"
      ]
    },
    {
      "cell_type": "code",
      "metadata": {
        "colab": {
          "base_uri": "https://localhost:8080/"
        },
        "id": "S0esu5NK6A3M",
        "outputId": "9a1ac3ad-e2ca-4281-9fa0-f25102367b8f"
      },
      "source": [
        "features[not_mc_cols].isnull().sum(axis=0)"
      ],
      "execution_count": 97,
      "outputs": [
        {
          "output_type": "execute_result",
          "data": {
            "text/plain": [
              "Q1        0\n",
              "Q2        0\n",
              "Q3        0\n",
              "Q4        0\n",
              "Q5        0\n",
              "Q6        0\n",
              "Q8      561\n",
              "Q11     561\n",
              "Q13     561\n",
              "Q15     561\n",
              "Q20       0\n",
              "Q21       0\n",
              "Q22       0\n",
              "Q24       0\n",
              "Q25     159\n",
              "Q30    7216\n",
              "Q32    9231\n",
              "Q38    1253\n",
              "dtype: int64"
            ]
          },
          "metadata": {
            "tags": []
          },
          "execution_count": 97
        }
      ]
    },
    {
      "cell_type": "code",
      "metadata": {
        "id": "uEhP5h4L-60a"
      },
      "source": [
        "# Drop rows that contain over 15 NaNs\r\n",
        "features[not_mc_cols] = features[not_mc_cols].dropna(axis=0, how='any', thresh=15, subset=None)\r\n",
        "# Assign NaN to category 'Unknown'\r\n",
        "for col in not_mc_cols:\r\n",
        "  features.loc[features[col].isnull(), col] = 'Unknown'"
      ],
      "execution_count": 98,
      "outputs": []
    },
    {
      "cell_type": "code",
      "metadata": {
        "colab": {
          "base_uri": "https://localhost:8080/"
        },
        "id": "fPyXknk8HhF_",
        "outputId": "fb6901b8-00e0-43e8-f2d4-1b4ac390aa6a"
      },
      "source": [
        "for col in not_mc_cols:\r\n",
        "    print(f'Number of unique elements in {col}: {features[col].nunique()}')"
      ],
      "execution_count": 99,
      "outputs": [
        {
          "output_type": "stream",
          "text": [
            "Number of unique elements in Q1: 12\n",
            "Number of unique elements in Q2: 6\n",
            "Number of unique elements in Q3: 56\n",
            "Number of unique elements in Q4: 8\n",
            "Number of unique elements in Q5: 12\n",
            "Number of unique elements in Q6: 7\n",
            "Number of unique elements in Q8: 14\n",
            "Number of unique elements in Q11: 6\n",
            "Number of unique elements in Q13: 6\n",
            "Number of unique elements in Q15: 10\n",
            "Number of unique elements in Q20: 6\n",
            "Number of unique elements in Q21: 8\n",
            "Number of unique elements in Q22: 7\n",
            "Number of unique elements in Q24: 26\n",
            "Number of unique elements in Q25: 7\n",
            "Number of unique elements in Q30: 18\n",
            "Number of unique elements in Q32: 15\n",
            "Number of unique elements in Q38: 7\n"
          ],
          "name": "stdout"
        }
      ]
    },
    {
      "cell_type": "code",
      "metadata": {
        "colab": {
          "base_uri": "https://localhost:8080/"
        },
        "id": "xkrhYBirIkJP",
        "outputId": "1d29b8aa-a391-49f8-916b-14d3d15ff388"
      },
      "source": [
        "features['Q3'].value_counts()"
      ],
      "execution_count": 100,
      "outputs": [
        {
          "output_type": "execute_result",
          "data": {
            "text/plain": [
              "India                                                   2150\n",
              "United States of America                                1422\n",
              "Other                                                    753\n",
              "Unknown                                                  695\n",
              "Brazil                                                   415\n",
              "Japan                                                    374\n",
              "Russia                                                   335\n",
              "United Kingdom of Great Britain and Northern Ireland     334\n",
              "Germany                                                  249\n",
              "Spain                                                    222\n",
              "Nigeria                                                  217\n",
              "France                                                   190\n",
              "Canada                                                   189\n",
              "Italy                                                    175\n",
              "China                                                    162\n",
              "Turkey                                                   153\n",
              "Australia                                                140\n",
              "Mexico                                                   133\n",
              "Taiwan                                                   118\n",
              "Indonesia                                                118\n",
              "Pakistan                                                 111\n",
              "Netherlands                                              110\n",
              "Colombia                                                 108\n",
              "Ukraine                                                  108\n",
              "Poland                                                    94\n",
              "Egypt                                                     84\n",
              "Portugal                                                  83\n",
              "South Korea                                               81\n",
              "Singapore                                                 80\n",
              "South Africa                                              75\n",
              "Viet Nam                                                  74\n",
              "Argentina                                                 74\n",
              "Iran, Islamic Republic of...                              71\n",
              "Kenya                                                     66\n",
              "Israel                                                    64\n",
              "Chile                                                     61\n",
              "Peru                                                      60\n",
              "Greece                                                    59\n",
              "Thailand                                                  57\n",
              "Morocco                                                   55\n",
              "Sweden                                                    54\n",
              "Malaysia                                                  51\n",
              "Philippines                                               47\n",
              "Switzerland                                               47\n",
              "Bangladesh                                                46\n",
              "Tunisia                                                   46\n",
              "Republic of Korea                                         41\n",
              "United Arab Emirates                                      40\n",
              "Saudi Arabia                                              37\n",
              "Belarus                                                   34\n",
              "Belgium                                                   34\n",
              "Sri Lanka                                                 34\n",
              "Romania                                                   33\n",
              "Ireland                                                   29\n",
              "Ghana                                                     19\n",
              "Nepal                                                     18\n",
              "Name: Q3, dtype: int64"
            ]
          },
          "metadata": {
            "tags": []
          },
          "execution_count": 100
        }
      ]
    },
    {
      "cell_type": "markdown",
      "metadata": {
        "id": "-Gao0bdmYycl"
      },
      "source": [
        "We can find out that Q3 has too many categories that may slow down learning. We can truncate the insignificant ones."
      ]
    },
    {
      "cell_type": "code",
      "metadata": {
        "colab": {
          "base_uri": "https://localhost:8080/"
        },
        "id": "8dbovgKzJJ7i",
        "outputId": "8287d38c-ca5d-4e1f-a5b3-2340b33c2e25"
      },
      "source": [
        "def remove_insiginicances(data, col, threshold):\r\n",
        "  counts = data[col].value_counts()\r\n",
        "  value_mask = data[col].isin(counts.index[counts < threshold])\r\n",
        "  data.loc[value_mask,col] = \"Other\"\r\n",
        "# remove categories appearing below 100 times\r\n",
        "remove_insiginicances(features, 'Q3', 100)\r\n",
        "features['Q3'].value_counts()"
      ],
      "execution_count": 101,
      "outputs": [
        {
          "output_type": "execute_result",
          "data": {
            "text/plain": [
              "Other                                                   2501\n",
              "India                                                   2150\n",
              "United States of America                                1422\n",
              "Unknown                                                  695\n",
              "Brazil                                                   415\n",
              "Japan                                                    374\n",
              "Russia                                                   335\n",
              "United Kingdom of Great Britain and Northern Ireland     334\n",
              "Germany                                                  249\n",
              "Spain                                                    222\n",
              "Nigeria                                                  217\n",
              "France                                                   190\n",
              "Canada                                                   189\n",
              "Italy                                                    175\n",
              "China                                                    162\n",
              "Turkey                                                   153\n",
              "Australia                                                140\n",
              "Mexico                                                   133\n",
              "Taiwan                                                   118\n",
              "Indonesia                                                118\n",
              "Pakistan                                                 111\n",
              "Netherlands                                              110\n",
              "Ukraine                                                  108\n",
              "Colombia                                                 108\n",
              "Name: Q3, dtype: int64"
            ]
          },
          "metadata": {
            "tags": []
          },
          "execution_count": 101
        }
      ]
    },
    {
      "cell_type": "code",
      "metadata": {
        "id": "5LT60BBdKT_s"
      },
      "source": [
        "# one-hot encoding\r\n",
        "features = pd.get_dummies(data=features, columns=not_mc_cols)"
      ],
      "execution_count": 102,
      "outputs": []
    },
    {
      "cell_type": "code",
      "metadata": {
        "colab": {
          "base_uri": "https://localhost:8080/",
          "height": 509
        },
        "id": "Oxd1f5dhKaKS",
        "outputId": "6da01598-907e-47b1-ba02-b59bcf0099d5"
      },
      "source": [
        "features.head()"
      ],
      "execution_count": 103,
      "outputs": [
        {
          "output_type": "execute_result",
          "data": {
            "text/html": [
              "<div>\n",
              "<style scoped>\n",
              "    .dataframe tbody tr th:only-of-type {\n",
              "        vertical-align: middle;\n",
              "    }\n",
              "\n",
              "    .dataframe tbody tr th {\n",
              "        vertical-align: top;\n",
              "    }\n",
              "\n",
              "    .dataframe thead th {\n",
              "        text-align: right;\n",
              "    }\n",
              "</style>\n",
              "<table border=\"1\" class=\"dataframe\">\n",
              "  <thead>\n",
              "    <tr style=\"text-align: right;\">\n",
              "      <th></th>\n",
              "      <th>Time from Start to Finish (seconds)</th>\n",
              "      <th>Q7_Part_1</th>\n",
              "      <th>Q7_Part_2</th>\n",
              "      <th>Q7_Part_3</th>\n",
              "      <th>Q7_Part_4</th>\n",
              "      <th>Q7_Part_5</th>\n",
              "      <th>Q7_Part_6</th>\n",
              "      <th>Q7_Part_7</th>\n",
              "      <th>Q7_Part_8</th>\n",
              "      <th>Q7_Part_9</th>\n",
              "      <th>Q7_Part_10</th>\n",
              "      <th>Q7_Part_11</th>\n",
              "      <th>Q7_Part_12</th>\n",
              "      <th>Q7_OTHER</th>\n",
              "      <th>Q9_Part_1</th>\n",
              "      <th>Q9_Part_2</th>\n",
              "      <th>Q9_Part_3</th>\n",
              "      <th>Q9_Part_4</th>\n",
              "      <th>Q9_Part_5</th>\n",
              "      <th>Q9_Part_6</th>\n",
              "      <th>Q9_Part_7</th>\n",
              "      <th>Q9_Part_8</th>\n",
              "      <th>Q9_Part_9</th>\n",
              "      <th>Q9_Part_10</th>\n",
              "      <th>Q9_Part_11</th>\n",
              "      <th>Q9_OTHER</th>\n",
              "      <th>Q10_Part_1</th>\n",
              "      <th>Q10_Part_2</th>\n",
              "      <th>Q10_Part_3</th>\n",
              "      <th>Q10_Part_4</th>\n",
              "      <th>Q10_Part_5</th>\n",
              "      <th>Q10_Part_6</th>\n",
              "      <th>Q10_Part_7</th>\n",
              "      <th>Q10_Part_8</th>\n",
              "      <th>Q10_Part_9</th>\n",
              "      <th>Q10_Part_10</th>\n",
              "      <th>Q10_Part_11</th>\n",
              "      <th>Q10_Part_12</th>\n",
              "      <th>Q10_Part_13</th>\n",
              "      <th>Q10_OTHER</th>\n",
              "      <th>...</th>\n",
              "      <th>Q30_Amazon Athena</th>\n",
              "      <th>Q30_Amazon DynamoDB</th>\n",
              "      <th>Q30_Amazon Redshift</th>\n",
              "      <th>Q30_Google Cloud BigQuery</th>\n",
              "      <th>Q30_Google Cloud Firestore</th>\n",
              "      <th>Q30_Google Cloud SQL</th>\n",
              "      <th>Q30_IBM Db2</th>\n",
              "      <th>Q30_Microsoft Access</th>\n",
              "      <th>Q30_Microsoft Azure Data Lake Storage</th>\n",
              "      <th>Q30_Microsoft SQL Server</th>\n",
              "      <th>Q30_MongoDB</th>\n",
              "      <th>Q30_MySQL</th>\n",
              "      <th>Q30_Oracle Database</th>\n",
              "      <th>Q30_Other</th>\n",
              "      <th>Q30_PostgresSQL</th>\n",
              "      <th>Q30_SQLite</th>\n",
              "      <th>Q30_Snowflake</th>\n",
              "      <th>Q30_Unknown</th>\n",
              "      <th>Q32_Alteryx</th>\n",
              "      <th>Q32_Amazon QuickSight</th>\n",
              "      <th>Q32_Domo</th>\n",
              "      <th>Q32_Einstein Analytics</th>\n",
              "      <th>Q32_Google Data Studio</th>\n",
              "      <th>Q32_Looker</th>\n",
              "      <th>Q32_Microsoft Power BI</th>\n",
              "      <th>Q32_Other</th>\n",
              "      <th>Q32_Qlik</th>\n",
              "      <th>Q32_SAP Analytics Cloud</th>\n",
              "      <th>Q32_Salesforce</th>\n",
              "      <th>Q32_Sisense</th>\n",
              "      <th>Q32_TIBCO Spotfire</th>\n",
              "      <th>Q32_Tableau</th>\n",
              "      <th>Q32_Unknown</th>\n",
              "      <th>Q38_Advanced statistical software (SPSS, SAS, etc.)</th>\n",
              "      <th>Q38_Basic statistical software (Microsoft Excel, Google Sheets, etc.)</th>\n",
              "      <th>Q38_Business intelligence software (Salesforce, Tableau, Spotfire, etc.)</th>\n",
              "      <th>Q38_Cloud-based data software &amp; APIs (AWS, GCP, Azure, etc.)</th>\n",
              "      <th>Q38_Local development environments (RStudio, JupyterLab, etc.)</th>\n",
              "      <th>Q38_Other</th>\n",
              "      <th>Q38_Unknown</th>\n",
              "    </tr>\n",
              "  </thead>\n",
              "  <tbody>\n",
              "    <tr>\n",
              "      <th>1</th>\n",
              "      <td>289287</td>\n",
              "      <td>Python</td>\n",
              "      <td>R</td>\n",
              "      <td>SQL</td>\n",
              "      <td>NaN</td>\n",
              "      <td>NaN</td>\n",
              "      <td>NaN</td>\n",
              "      <td>NaN</td>\n",
              "      <td>NaN</td>\n",
              "      <td>NaN</td>\n",
              "      <td>NaN</td>\n",
              "      <td>NaN</td>\n",
              "      <td>NaN</td>\n",
              "      <td>NaN</td>\n",
              "      <td>NaN</td>\n",
              "      <td>NaN</td>\n",
              "      <td>Visual Studio</td>\n",
              "      <td>NaN</td>\n",
              "      <td>PyCharm</td>\n",
              "      <td>NaN</td>\n",
              "      <td>NaN</td>\n",
              "      <td>Sublime Text</td>\n",
              "      <td>NaN</td>\n",
              "      <td>NaN</td>\n",
              "      <td>NaN</td>\n",
              "      <td>NaN</td>\n",
              "      <td>NaN</td>\n",
              "      <td>Colab Notebooks</td>\n",
              "      <td>NaN</td>\n",
              "      <td>NaN</td>\n",
              "      <td>NaN</td>\n",
              "      <td>NaN</td>\n",
              "      <td>NaN</td>\n",
              "      <td>NaN</td>\n",
              "      <td>NaN</td>\n",
              "      <td>NaN</td>\n",
              "      <td>NaN</td>\n",
              "      <td>NaN</td>\n",
              "      <td>NaN</td>\n",
              "      <td>NaN</td>\n",
              "      <td>...</td>\n",
              "      <td>0</td>\n",
              "      <td>0</td>\n",
              "      <td>0</td>\n",
              "      <td>0</td>\n",
              "      <td>0</td>\n",
              "      <td>0</td>\n",
              "      <td>0</td>\n",
              "      <td>0</td>\n",
              "      <td>0</td>\n",
              "      <td>0</td>\n",
              "      <td>0</td>\n",
              "      <td>0</td>\n",
              "      <td>0</td>\n",
              "      <td>0</td>\n",
              "      <td>1</td>\n",
              "      <td>0</td>\n",
              "      <td>0</td>\n",
              "      <td>0</td>\n",
              "      <td>0</td>\n",
              "      <td>0</td>\n",
              "      <td>0</td>\n",
              "      <td>0</td>\n",
              "      <td>0</td>\n",
              "      <td>0</td>\n",
              "      <td>1</td>\n",
              "      <td>0</td>\n",
              "      <td>0</td>\n",
              "      <td>0</td>\n",
              "      <td>0</td>\n",
              "      <td>0</td>\n",
              "      <td>0</td>\n",
              "      <td>0</td>\n",
              "      <td>0</td>\n",
              "      <td>0</td>\n",
              "      <td>0</td>\n",
              "      <td>1</td>\n",
              "      <td>0</td>\n",
              "      <td>0</td>\n",
              "      <td>0</td>\n",
              "      <td>0</td>\n",
              "    </tr>\n",
              "    <tr>\n",
              "      <th>2</th>\n",
              "      <td>860</td>\n",
              "      <td>NaN</td>\n",
              "      <td>NaN</td>\n",
              "      <td>NaN</td>\n",
              "      <td>NaN</td>\n",
              "      <td>NaN</td>\n",
              "      <td>Java</td>\n",
              "      <td>Javascript</td>\n",
              "      <td>NaN</td>\n",
              "      <td>NaN</td>\n",
              "      <td>Bash</td>\n",
              "      <td>NaN</td>\n",
              "      <td>NaN</td>\n",
              "      <td>NaN</td>\n",
              "      <td>NaN</td>\n",
              "      <td>NaN</td>\n",
              "      <td>NaN</td>\n",
              "      <td>Visual Studio Code (VSCode)</td>\n",
              "      <td>NaN</td>\n",
              "      <td>NaN</td>\n",
              "      <td>Notepad++</td>\n",
              "      <td>Sublime Text</td>\n",
              "      <td>Vim / Emacs</td>\n",
              "      <td>NaN</td>\n",
              "      <td>NaN</td>\n",
              "      <td>NaN</td>\n",
              "      <td>NaN</td>\n",
              "      <td>NaN</td>\n",
              "      <td>NaN</td>\n",
              "      <td>NaN</td>\n",
              "      <td>NaN</td>\n",
              "      <td>NaN</td>\n",
              "      <td>NaN</td>\n",
              "      <td>NaN</td>\n",
              "      <td>NaN</td>\n",
              "      <td>NaN</td>\n",
              "      <td>NaN</td>\n",
              "      <td>NaN</td>\n",
              "      <td>None</td>\n",
              "      <td>NaN</td>\n",
              "      <td>...</td>\n",
              "      <td>0</td>\n",
              "      <td>0</td>\n",
              "      <td>0</td>\n",
              "      <td>0</td>\n",
              "      <td>0</td>\n",
              "      <td>0</td>\n",
              "      <td>0</td>\n",
              "      <td>0</td>\n",
              "      <td>0</td>\n",
              "      <td>0</td>\n",
              "      <td>0</td>\n",
              "      <td>0</td>\n",
              "      <td>0</td>\n",
              "      <td>0</td>\n",
              "      <td>0</td>\n",
              "      <td>0</td>\n",
              "      <td>0</td>\n",
              "      <td>1</td>\n",
              "      <td>0</td>\n",
              "      <td>0</td>\n",
              "      <td>0</td>\n",
              "      <td>0</td>\n",
              "      <td>0</td>\n",
              "      <td>0</td>\n",
              "      <td>0</td>\n",
              "      <td>0</td>\n",
              "      <td>0</td>\n",
              "      <td>0</td>\n",
              "      <td>0</td>\n",
              "      <td>0</td>\n",
              "      <td>0</td>\n",
              "      <td>0</td>\n",
              "      <td>1</td>\n",
              "      <td>0</td>\n",
              "      <td>1</td>\n",
              "      <td>0</td>\n",
              "      <td>0</td>\n",
              "      <td>0</td>\n",
              "      <td>0</td>\n",
              "      <td>0</td>\n",
              "    </tr>\n",
              "    <tr>\n",
              "      <th>3</th>\n",
              "      <td>507</td>\n",
              "      <td>Python</td>\n",
              "      <td>NaN</td>\n",
              "      <td>SQL</td>\n",
              "      <td>NaN</td>\n",
              "      <td>NaN</td>\n",
              "      <td>NaN</td>\n",
              "      <td>NaN</td>\n",
              "      <td>NaN</td>\n",
              "      <td>NaN</td>\n",
              "      <td>Bash</td>\n",
              "      <td>NaN</td>\n",
              "      <td>NaN</td>\n",
              "      <td>NaN</td>\n",
              "      <td>NaN</td>\n",
              "      <td>NaN</td>\n",
              "      <td>NaN</td>\n",
              "      <td>NaN</td>\n",
              "      <td>PyCharm</td>\n",
              "      <td>NaN</td>\n",
              "      <td>NaN</td>\n",
              "      <td>NaN</td>\n",
              "      <td>NaN</td>\n",
              "      <td>NaN</td>\n",
              "      <td>NaN</td>\n",
              "      <td>NaN</td>\n",
              "      <td>NaN</td>\n",
              "      <td>NaN</td>\n",
              "      <td>NaN</td>\n",
              "      <td>NaN</td>\n",
              "      <td>NaN</td>\n",
              "      <td>NaN</td>\n",
              "      <td>NaN</td>\n",
              "      <td>NaN</td>\n",
              "      <td>NaN</td>\n",
              "      <td>NaN</td>\n",
              "      <td>NaN</td>\n",
              "      <td>NaN</td>\n",
              "      <td>None</td>\n",
              "      <td>NaN</td>\n",
              "      <td>...</td>\n",
              "      <td>0</td>\n",
              "      <td>0</td>\n",
              "      <td>0</td>\n",
              "      <td>0</td>\n",
              "      <td>0</td>\n",
              "      <td>0</td>\n",
              "      <td>0</td>\n",
              "      <td>0</td>\n",
              "      <td>0</td>\n",
              "      <td>0</td>\n",
              "      <td>0</td>\n",
              "      <td>1</td>\n",
              "      <td>0</td>\n",
              "      <td>0</td>\n",
              "      <td>0</td>\n",
              "      <td>0</td>\n",
              "      <td>0</td>\n",
              "      <td>0</td>\n",
              "      <td>0</td>\n",
              "      <td>0</td>\n",
              "      <td>0</td>\n",
              "      <td>0</td>\n",
              "      <td>0</td>\n",
              "      <td>0</td>\n",
              "      <td>0</td>\n",
              "      <td>0</td>\n",
              "      <td>0</td>\n",
              "      <td>0</td>\n",
              "      <td>0</td>\n",
              "      <td>0</td>\n",
              "      <td>0</td>\n",
              "      <td>0</td>\n",
              "      <td>1</td>\n",
              "      <td>0</td>\n",
              "      <td>0</td>\n",
              "      <td>0</td>\n",
              "      <td>0</td>\n",
              "      <td>1</td>\n",
              "      <td>0</td>\n",
              "      <td>0</td>\n",
              "    </tr>\n",
              "    <tr>\n",
              "      <th>4</th>\n",
              "      <td>762</td>\n",
              "      <td>Python</td>\n",
              "      <td>NaN</td>\n",
              "      <td>SQL</td>\n",
              "      <td>NaN</td>\n",
              "      <td>NaN</td>\n",
              "      <td>NaN</td>\n",
              "      <td>NaN</td>\n",
              "      <td>NaN</td>\n",
              "      <td>NaN</td>\n",
              "      <td>Bash</td>\n",
              "      <td>NaN</td>\n",
              "      <td>NaN</td>\n",
              "      <td>NaN</td>\n",
              "      <td>Jupyter (JupyterLab, Jupyter Notebooks, etc)</td>\n",
              "      <td>NaN</td>\n",
              "      <td>NaN</td>\n",
              "      <td>NaN</td>\n",
              "      <td>PyCharm</td>\n",
              "      <td>NaN</td>\n",
              "      <td>NaN</td>\n",
              "      <td>Sublime Text</td>\n",
              "      <td>Vim / Emacs</td>\n",
              "      <td>NaN</td>\n",
              "      <td>NaN</td>\n",
              "      <td>NaN</td>\n",
              "      <td>Kaggle Notebooks</td>\n",
              "      <td>Colab Notebooks</td>\n",
              "      <td>NaN</td>\n",
              "      <td>NaN</td>\n",
              "      <td>NaN</td>\n",
              "      <td>NaN</td>\n",
              "      <td>NaN</td>\n",
              "      <td>NaN</td>\n",
              "      <td>NaN</td>\n",
              "      <td>NaN</td>\n",
              "      <td>NaN</td>\n",
              "      <td>NaN</td>\n",
              "      <td>NaN</td>\n",
              "      <td>NaN</td>\n",
              "      <td>...</td>\n",
              "      <td>0</td>\n",
              "      <td>0</td>\n",
              "      <td>0</td>\n",
              "      <td>0</td>\n",
              "      <td>0</td>\n",
              "      <td>0</td>\n",
              "      <td>0</td>\n",
              "      <td>0</td>\n",
              "      <td>1</td>\n",
              "      <td>0</td>\n",
              "      <td>0</td>\n",
              "      <td>0</td>\n",
              "      <td>0</td>\n",
              "      <td>0</td>\n",
              "      <td>0</td>\n",
              "      <td>0</td>\n",
              "      <td>0</td>\n",
              "      <td>0</td>\n",
              "      <td>0</td>\n",
              "      <td>0</td>\n",
              "      <td>0</td>\n",
              "      <td>0</td>\n",
              "      <td>0</td>\n",
              "      <td>0</td>\n",
              "      <td>0</td>\n",
              "      <td>0</td>\n",
              "      <td>0</td>\n",
              "      <td>0</td>\n",
              "      <td>0</td>\n",
              "      <td>0</td>\n",
              "      <td>0</td>\n",
              "      <td>0</td>\n",
              "      <td>1</td>\n",
              "      <td>0</td>\n",
              "      <td>0</td>\n",
              "      <td>0</td>\n",
              "      <td>1</td>\n",
              "      <td>0</td>\n",
              "      <td>0</td>\n",
              "      <td>0</td>\n",
              "    </tr>\n",
              "    <tr>\n",
              "      <th>5</th>\n",
              "      <td>742</td>\n",
              "      <td>NaN</td>\n",
              "      <td>R</td>\n",
              "      <td>NaN</td>\n",
              "      <td>NaN</td>\n",
              "      <td>NaN</td>\n",
              "      <td>NaN</td>\n",
              "      <td>NaN</td>\n",
              "      <td>NaN</td>\n",
              "      <td>NaN</td>\n",
              "      <td>NaN</td>\n",
              "      <td>NaN</td>\n",
              "      <td>NaN</td>\n",
              "      <td>NaN</td>\n",
              "      <td>NaN</td>\n",
              "      <td>RStudio</td>\n",
              "      <td>NaN</td>\n",
              "      <td>NaN</td>\n",
              "      <td>NaN</td>\n",
              "      <td>NaN</td>\n",
              "      <td>NaN</td>\n",
              "      <td>NaN</td>\n",
              "      <td>NaN</td>\n",
              "      <td>NaN</td>\n",
              "      <td>NaN</td>\n",
              "      <td>NaN</td>\n",
              "      <td>NaN</td>\n",
              "      <td>NaN</td>\n",
              "      <td>NaN</td>\n",
              "      <td>NaN</td>\n",
              "      <td>NaN</td>\n",
              "      <td>NaN</td>\n",
              "      <td>NaN</td>\n",
              "      <td>NaN</td>\n",
              "      <td>NaN</td>\n",
              "      <td>NaN</td>\n",
              "      <td>NaN</td>\n",
              "      <td>NaN</td>\n",
              "      <td>None</td>\n",
              "      <td>NaN</td>\n",
              "      <td>...</td>\n",
              "      <td>0</td>\n",
              "      <td>0</td>\n",
              "      <td>0</td>\n",
              "      <td>0</td>\n",
              "      <td>0</td>\n",
              "      <td>0</td>\n",
              "      <td>0</td>\n",
              "      <td>0</td>\n",
              "      <td>0</td>\n",
              "      <td>0</td>\n",
              "      <td>0</td>\n",
              "      <td>0</td>\n",
              "      <td>0</td>\n",
              "      <td>0</td>\n",
              "      <td>0</td>\n",
              "      <td>0</td>\n",
              "      <td>0</td>\n",
              "      <td>1</td>\n",
              "      <td>0</td>\n",
              "      <td>0</td>\n",
              "      <td>0</td>\n",
              "      <td>0</td>\n",
              "      <td>0</td>\n",
              "      <td>0</td>\n",
              "      <td>0</td>\n",
              "      <td>0</td>\n",
              "      <td>0</td>\n",
              "      <td>0</td>\n",
              "      <td>0</td>\n",
              "      <td>0</td>\n",
              "      <td>0</td>\n",
              "      <td>0</td>\n",
              "      <td>1</td>\n",
              "      <td>0</td>\n",
              "      <td>0</td>\n",
              "      <td>0</td>\n",
              "      <td>0</td>\n",
              "      <td>1</td>\n",
              "      <td>0</td>\n",
              "      <td>0</td>\n",
              "    </tr>\n",
              "  </tbody>\n",
              "</table>\n",
              "<p>5 rows × 536 columns</p>\n",
              "</div>"
            ],
            "text/plain": [
              "  Time from Start to Finish (seconds) Q7_Part_1  ... Q38_Other Q38_Unknown\n",
              "1                              289287    Python  ...         0           0\n",
              "2                                 860       NaN  ...         0           0\n",
              "3                                 507    Python  ...         0           0\n",
              "4                                 762    Python  ...         0           0\n",
              "5                                 742       NaN  ...         0           0\n",
              "\n",
              "[5 rows x 536 columns]"
            ]
          },
          "metadata": {
            "tags": []
          },
          "execution_count": 103
        }
      ]
    },
    {
      "cell_type": "markdown",
      "metadata": {
        "id": "Lf-JAVGHBWG3"
      },
      "source": [
        "## Clean MC columns"
      ]
    },
    {
      "cell_type": "code",
      "metadata": {
        "id": "Mvp5bbLMNlBf"
      },
      "source": [
        "# Fill NaNs with 0 and others with 1\r\n",
        "dummies = features[mc_cols].fillna(0)\r\n",
        "dummies[dummies != 0] = 1\r\n",
        "features[mc_cols] = dummies"
      ],
      "execution_count": 104,
      "outputs": []
    },
    {
      "cell_type": "code",
      "metadata": {
        "colab": {
          "base_uri": "https://localhost:8080/",
          "height": 372
        },
        "id": "hPFbM4lvKkQa",
        "outputId": "be83d81b-1a2f-4775-a036-14cf9372d2f6"
      },
      "source": [
        "features.head()"
      ],
      "execution_count": 105,
      "outputs": [
        {
          "output_type": "execute_result",
          "data": {
            "text/html": [
              "<div>\n",
              "<style scoped>\n",
              "    .dataframe tbody tr th:only-of-type {\n",
              "        vertical-align: middle;\n",
              "    }\n",
              "\n",
              "    .dataframe tbody tr th {\n",
              "        vertical-align: top;\n",
              "    }\n",
              "\n",
              "    .dataframe thead th {\n",
              "        text-align: right;\n",
              "    }\n",
              "</style>\n",
              "<table border=\"1\" class=\"dataframe\">\n",
              "  <thead>\n",
              "    <tr style=\"text-align: right;\">\n",
              "      <th></th>\n",
              "      <th>Time from Start to Finish (seconds)</th>\n",
              "      <th>Q7_Part_1</th>\n",
              "      <th>Q7_Part_2</th>\n",
              "      <th>Q7_Part_3</th>\n",
              "      <th>Q7_Part_4</th>\n",
              "      <th>Q7_Part_5</th>\n",
              "      <th>Q7_Part_6</th>\n",
              "      <th>Q7_Part_7</th>\n",
              "      <th>Q7_Part_8</th>\n",
              "      <th>Q7_Part_9</th>\n",
              "      <th>Q7_Part_10</th>\n",
              "      <th>Q7_Part_11</th>\n",
              "      <th>Q7_Part_12</th>\n",
              "      <th>Q7_OTHER</th>\n",
              "      <th>Q9_Part_1</th>\n",
              "      <th>Q9_Part_2</th>\n",
              "      <th>Q9_Part_3</th>\n",
              "      <th>Q9_Part_4</th>\n",
              "      <th>Q9_Part_5</th>\n",
              "      <th>Q9_Part_6</th>\n",
              "      <th>Q9_Part_7</th>\n",
              "      <th>Q9_Part_8</th>\n",
              "      <th>Q9_Part_9</th>\n",
              "      <th>Q9_Part_10</th>\n",
              "      <th>Q9_Part_11</th>\n",
              "      <th>Q9_OTHER</th>\n",
              "      <th>Q10_Part_1</th>\n",
              "      <th>Q10_Part_2</th>\n",
              "      <th>Q10_Part_3</th>\n",
              "      <th>Q10_Part_4</th>\n",
              "      <th>Q10_Part_5</th>\n",
              "      <th>Q10_Part_6</th>\n",
              "      <th>Q10_Part_7</th>\n",
              "      <th>Q10_Part_8</th>\n",
              "      <th>Q10_Part_9</th>\n",
              "      <th>Q10_Part_10</th>\n",
              "      <th>Q10_Part_11</th>\n",
              "      <th>Q10_Part_12</th>\n",
              "      <th>Q10_Part_13</th>\n",
              "      <th>Q10_OTHER</th>\n",
              "      <th>...</th>\n",
              "      <th>Q30_Amazon Athena</th>\n",
              "      <th>Q30_Amazon DynamoDB</th>\n",
              "      <th>Q30_Amazon Redshift</th>\n",
              "      <th>Q30_Google Cloud BigQuery</th>\n",
              "      <th>Q30_Google Cloud Firestore</th>\n",
              "      <th>Q30_Google Cloud SQL</th>\n",
              "      <th>Q30_IBM Db2</th>\n",
              "      <th>Q30_Microsoft Access</th>\n",
              "      <th>Q30_Microsoft Azure Data Lake Storage</th>\n",
              "      <th>Q30_Microsoft SQL Server</th>\n",
              "      <th>Q30_MongoDB</th>\n",
              "      <th>Q30_MySQL</th>\n",
              "      <th>Q30_Oracle Database</th>\n",
              "      <th>Q30_Other</th>\n",
              "      <th>Q30_PostgresSQL</th>\n",
              "      <th>Q30_SQLite</th>\n",
              "      <th>Q30_Snowflake</th>\n",
              "      <th>Q30_Unknown</th>\n",
              "      <th>Q32_Alteryx</th>\n",
              "      <th>Q32_Amazon QuickSight</th>\n",
              "      <th>Q32_Domo</th>\n",
              "      <th>Q32_Einstein Analytics</th>\n",
              "      <th>Q32_Google Data Studio</th>\n",
              "      <th>Q32_Looker</th>\n",
              "      <th>Q32_Microsoft Power BI</th>\n",
              "      <th>Q32_Other</th>\n",
              "      <th>Q32_Qlik</th>\n",
              "      <th>Q32_SAP Analytics Cloud</th>\n",
              "      <th>Q32_Salesforce</th>\n",
              "      <th>Q32_Sisense</th>\n",
              "      <th>Q32_TIBCO Spotfire</th>\n",
              "      <th>Q32_Tableau</th>\n",
              "      <th>Q32_Unknown</th>\n",
              "      <th>Q38_Advanced statistical software (SPSS, SAS, etc.)</th>\n",
              "      <th>Q38_Basic statistical software (Microsoft Excel, Google Sheets, etc.)</th>\n",
              "      <th>Q38_Business intelligence software (Salesforce, Tableau, Spotfire, etc.)</th>\n",
              "      <th>Q38_Cloud-based data software &amp; APIs (AWS, GCP, Azure, etc.)</th>\n",
              "      <th>Q38_Local development environments (RStudio, JupyterLab, etc.)</th>\n",
              "      <th>Q38_Other</th>\n",
              "      <th>Q38_Unknown</th>\n",
              "    </tr>\n",
              "  </thead>\n",
              "  <tbody>\n",
              "    <tr>\n",
              "      <th>1</th>\n",
              "      <td>289287</td>\n",
              "      <td>1</td>\n",
              "      <td>1</td>\n",
              "      <td>1</td>\n",
              "      <td>0</td>\n",
              "      <td>0</td>\n",
              "      <td>0</td>\n",
              "      <td>0</td>\n",
              "      <td>0</td>\n",
              "      <td>0</td>\n",
              "      <td>0</td>\n",
              "      <td>0</td>\n",
              "      <td>0</td>\n",
              "      <td>0</td>\n",
              "      <td>0</td>\n",
              "      <td>0</td>\n",
              "      <td>1</td>\n",
              "      <td>0</td>\n",
              "      <td>1</td>\n",
              "      <td>0</td>\n",
              "      <td>0</td>\n",
              "      <td>1</td>\n",
              "      <td>0</td>\n",
              "      <td>0</td>\n",
              "      <td>0</td>\n",
              "      <td>0</td>\n",
              "      <td>0</td>\n",
              "      <td>1</td>\n",
              "      <td>0</td>\n",
              "      <td>0</td>\n",
              "      <td>0</td>\n",
              "      <td>0</td>\n",
              "      <td>0</td>\n",
              "      <td>0</td>\n",
              "      <td>0</td>\n",
              "      <td>0</td>\n",
              "      <td>0</td>\n",
              "      <td>0</td>\n",
              "      <td>0</td>\n",
              "      <td>0</td>\n",
              "      <td>...</td>\n",
              "      <td>0</td>\n",
              "      <td>0</td>\n",
              "      <td>0</td>\n",
              "      <td>0</td>\n",
              "      <td>0</td>\n",
              "      <td>0</td>\n",
              "      <td>0</td>\n",
              "      <td>0</td>\n",
              "      <td>0</td>\n",
              "      <td>0</td>\n",
              "      <td>0</td>\n",
              "      <td>0</td>\n",
              "      <td>0</td>\n",
              "      <td>0</td>\n",
              "      <td>1</td>\n",
              "      <td>0</td>\n",
              "      <td>0</td>\n",
              "      <td>0</td>\n",
              "      <td>0</td>\n",
              "      <td>0</td>\n",
              "      <td>0</td>\n",
              "      <td>0</td>\n",
              "      <td>0</td>\n",
              "      <td>0</td>\n",
              "      <td>1</td>\n",
              "      <td>0</td>\n",
              "      <td>0</td>\n",
              "      <td>0</td>\n",
              "      <td>0</td>\n",
              "      <td>0</td>\n",
              "      <td>0</td>\n",
              "      <td>0</td>\n",
              "      <td>0</td>\n",
              "      <td>0</td>\n",
              "      <td>0</td>\n",
              "      <td>1</td>\n",
              "      <td>0</td>\n",
              "      <td>0</td>\n",
              "      <td>0</td>\n",
              "      <td>0</td>\n",
              "    </tr>\n",
              "    <tr>\n",
              "      <th>2</th>\n",
              "      <td>860</td>\n",
              "      <td>0</td>\n",
              "      <td>0</td>\n",
              "      <td>0</td>\n",
              "      <td>0</td>\n",
              "      <td>0</td>\n",
              "      <td>1</td>\n",
              "      <td>1</td>\n",
              "      <td>0</td>\n",
              "      <td>0</td>\n",
              "      <td>1</td>\n",
              "      <td>0</td>\n",
              "      <td>0</td>\n",
              "      <td>0</td>\n",
              "      <td>0</td>\n",
              "      <td>0</td>\n",
              "      <td>0</td>\n",
              "      <td>1</td>\n",
              "      <td>0</td>\n",
              "      <td>0</td>\n",
              "      <td>1</td>\n",
              "      <td>1</td>\n",
              "      <td>1</td>\n",
              "      <td>0</td>\n",
              "      <td>0</td>\n",
              "      <td>0</td>\n",
              "      <td>0</td>\n",
              "      <td>0</td>\n",
              "      <td>0</td>\n",
              "      <td>0</td>\n",
              "      <td>0</td>\n",
              "      <td>0</td>\n",
              "      <td>0</td>\n",
              "      <td>0</td>\n",
              "      <td>0</td>\n",
              "      <td>0</td>\n",
              "      <td>0</td>\n",
              "      <td>0</td>\n",
              "      <td>1</td>\n",
              "      <td>0</td>\n",
              "      <td>...</td>\n",
              "      <td>0</td>\n",
              "      <td>0</td>\n",
              "      <td>0</td>\n",
              "      <td>0</td>\n",
              "      <td>0</td>\n",
              "      <td>0</td>\n",
              "      <td>0</td>\n",
              "      <td>0</td>\n",
              "      <td>0</td>\n",
              "      <td>0</td>\n",
              "      <td>0</td>\n",
              "      <td>0</td>\n",
              "      <td>0</td>\n",
              "      <td>0</td>\n",
              "      <td>0</td>\n",
              "      <td>0</td>\n",
              "      <td>0</td>\n",
              "      <td>1</td>\n",
              "      <td>0</td>\n",
              "      <td>0</td>\n",
              "      <td>0</td>\n",
              "      <td>0</td>\n",
              "      <td>0</td>\n",
              "      <td>0</td>\n",
              "      <td>0</td>\n",
              "      <td>0</td>\n",
              "      <td>0</td>\n",
              "      <td>0</td>\n",
              "      <td>0</td>\n",
              "      <td>0</td>\n",
              "      <td>0</td>\n",
              "      <td>0</td>\n",
              "      <td>1</td>\n",
              "      <td>0</td>\n",
              "      <td>1</td>\n",
              "      <td>0</td>\n",
              "      <td>0</td>\n",
              "      <td>0</td>\n",
              "      <td>0</td>\n",
              "      <td>0</td>\n",
              "    </tr>\n",
              "    <tr>\n",
              "      <th>3</th>\n",
              "      <td>507</td>\n",
              "      <td>1</td>\n",
              "      <td>0</td>\n",
              "      <td>1</td>\n",
              "      <td>0</td>\n",
              "      <td>0</td>\n",
              "      <td>0</td>\n",
              "      <td>0</td>\n",
              "      <td>0</td>\n",
              "      <td>0</td>\n",
              "      <td>1</td>\n",
              "      <td>0</td>\n",
              "      <td>0</td>\n",
              "      <td>0</td>\n",
              "      <td>0</td>\n",
              "      <td>0</td>\n",
              "      <td>0</td>\n",
              "      <td>0</td>\n",
              "      <td>1</td>\n",
              "      <td>0</td>\n",
              "      <td>0</td>\n",
              "      <td>0</td>\n",
              "      <td>0</td>\n",
              "      <td>0</td>\n",
              "      <td>0</td>\n",
              "      <td>0</td>\n",
              "      <td>0</td>\n",
              "      <td>0</td>\n",
              "      <td>0</td>\n",
              "      <td>0</td>\n",
              "      <td>0</td>\n",
              "      <td>0</td>\n",
              "      <td>0</td>\n",
              "      <td>0</td>\n",
              "      <td>0</td>\n",
              "      <td>0</td>\n",
              "      <td>0</td>\n",
              "      <td>0</td>\n",
              "      <td>1</td>\n",
              "      <td>0</td>\n",
              "      <td>...</td>\n",
              "      <td>0</td>\n",
              "      <td>0</td>\n",
              "      <td>0</td>\n",
              "      <td>0</td>\n",
              "      <td>0</td>\n",
              "      <td>0</td>\n",
              "      <td>0</td>\n",
              "      <td>0</td>\n",
              "      <td>0</td>\n",
              "      <td>0</td>\n",
              "      <td>0</td>\n",
              "      <td>1</td>\n",
              "      <td>0</td>\n",
              "      <td>0</td>\n",
              "      <td>0</td>\n",
              "      <td>0</td>\n",
              "      <td>0</td>\n",
              "      <td>0</td>\n",
              "      <td>0</td>\n",
              "      <td>0</td>\n",
              "      <td>0</td>\n",
              "      <td>0</td>\n",
              "      <td>0</td>\n",
              "      <td>0</td>\n",
              "      <td>0</td>\n",
              "      <td>0</td>\n",
              "      <td>0</td>\n",
              "      <td>0</td>\n",
              "      <td>0</td>\n",
              "      <td>0</td>\n",
              "      <td>0</td>\n",
              "      <td>0</td>\n",
              "      <td>1</td>\n",
              "      <td>0</td>\n",
              "      <td>0</td>\n",
              "      <td>0</td>\n",
              "      <td>0</td>\n",
              "      <td>1</td>\n",
              "      <td>0</td>\n",
              "      <td>0</td>\n",
              "    </tr>\n",
              "    <tr>\n",
              "      <th>4</th>\n",
              "      <td>762</td>\n",
              "      <td>1</td>\n",
              "      <td>0</td>\n",
              "      <td>1</td>\n",
              "      <td>0</td>\n",
              "      <td>0</td>\n",
              "      <td>0</td>\n",
              "      <td>0</td>\n",
              "      <td>0</td>\n",
              "      <td>0</td>\n",
              "      <td>1</td>\n",
              "      <td>0</td>\n",
              "      <td>0</td>\n",
              "      <td>0</td>\n",
              "      <td>1</td>\n",
              "      <td>0</td>\n",
              "      <td>0</td>\n",
              "      <td>0</td>\n",
              "      <td>1</td>\n",
              "      <td>0</td>\n",
              "      <td>0</td>\n",
              "      <td>1</td>\n",
              "      <td>1</td>\n",
              "      <td>0</td>\n",
              "      <td>0</td>\n",
              "      <td>0</td>\n",
              "      <td>1</td>\n",
              "      <td>1</td>\n",
              "      <td>0</td>\n",
              "      <td>0</td>\n",
              "      <td>0</td>\n",
              "      <td>0</td>\n",
              "      <td>0</td>\n",
              "      <td>0</td>\n",
              "      <td>0</td>\n",
              "      <td>0</td>\n",
              "      <td>0</td>\n",
              "      <td>0</td>\n",
              "      <td>0</td>\n",
              "      <td>0</td>\n",
              "      <td>...</td>\n",
              "      <td>0</td>\n",
              "      <td>0</td>\n",
              "      <td>0</td>\n",
              "      <td>0</td>\n",
              "      <td>0</td>\n",
              "      <td>0</td>\n",
              "      <td>0</td>\n",
              "      <td>0</td>\n",
              "      <td>1</td>\n",
              "      <td>0</td>\n",
              "      <td>0</td>\n",
              "      <td>0</td>\n",
              "      <td>0</td>\n",
              "      <td>0</td>\n",
              "      <td>0</td>\n",
              "      <td>0</td>\n",
              "      <td>0</td>\n",
              "      <td>0</td>\n",
              "      <td>0</td>\n",
              "      <td>0</td>\n",
              "      <td>0</td>\n",
              "      <td>0</td>\n",
              "      <td>0</td>\n",
              "      <td>0</td>\n",
              "      <td>0</td>\n",
              "      <td>0</td>\n",
              "      <td>0</td>\n",
              "      <td>0</td>\n",
              "      <td>0</td>\n",
              "      <td>0</td>\n",
              "      <td>0</td>\n",
              "      <td>0</td>\n",
              "      <td>1</td>\n",
              "      <td>0</td>\n",
              "      <td>0</td>\n",
              "      <td>0</td>\n",
              "      <td>1</td>\n",
              "      <td>0</td>\n",
              "      <td>0</td>\n",
              "      <td>0</td>\n",
              "    </tr>\n",
              "    <tr>\n",
              "      <th>5</th>\n",
              "      <td>742</td>\n",
              "      <td>0</td>\n",
              "      <td>1</td>\n",
              "      <td>0</td>\n",
              "      <td>0</td>\n",
              "      <td>0</td>\n",
              "      <td>0</td>\n",
              "      <td>0</td>\n",
              "      <td>0</td>\n",
              "      <td>0</td>\n",
              "      <td>0</td>\n",
              "      <td>0</td>\n",
              "      <td>0</td>\n",
              "      <td>0</td>\n",
              "      <td>0</td>\n",
              "      <td>1</td>\n",
              "      <td>0</td>\n",
              "      <td>0</td>\n",
              "      <td>0</td>\n",
              "      <td>0</td>\n",
              "      <td>0</td>\n",
              "      <td>0</td>\n",
              "      <td>0</td>\n",
              "      <td>0</td>\n",
              "      <td>0</td>\n",
              "      <td>0</td>\n",
              "      <td>0</td>\n",
              "      <td>0</td>\n",
              "      <td>0</td>\n",
              "      <td>0</td>\n",
              "      <td>0</td>\n",
              "      <td>0</td>\n",
              "      <td>0</td>\n",
              "      <td>0</td>\n",
              "      <td>0</td>\n",
              "      <td>0</td>\n",
              "      <td>0</td>\n",
              "      <td>0</td>\n",
              "      <td>1</td>\n",
              "      <td>0</td>\n",
              "      <td>...</td>\n",
              "      <td>0</td>\n",
              "      <td>0</td>\n",
              "      <td>0</td>\n",
              "      <td>0</td>\n",
              "      <td>0</td>\n",
              "      <td>0</td>\n",
              "      <td>0</td>\n",
              "      <td>0</td>\n",
              "      <td>0</td>\n",
              "      <td>0</td>\n",
              "      <td>0</td>\n",
              "      <td>0</td>\n",
              "      <td>0</td>\n",
              "      <td>0</td>\n",
              "      <td>0</td>\n",
              "      <td>0</td>\n",
              "      <td>0</td>\n",
              "      <td>1</td>\n",
              "      <td>0</td>\n",
              "      <td>0</td>\n",
              "      <td>0</td>\n",
              "      <td>0</td>\n",
              "      <td>0</td>\n",
              "      <td>0</td>\n",
              "      <td>0</td>\n",
              "      <td>0</td>\n",
              "      <td>0</td>\n",
              "      <td>0</td>\n",
              "      <td>0</td>\n",
              "      <td>0</td>\n",
              "      <td>0</td>\n",
              "      <td>0</td>\n",
              "      <td>1</td>\n",
              "      <td>0</td>\n",
              "      <td>0</td>\n",
              "      <td>0</td>\n",
              "      <td>0</td>\n",
              "      <td>1</td>\n",
              "      <td>0</td>\n",
              "      <td>0</td>\n",
              "    </tr>\n",
              "  </tbody>\n",
              "</table>\n",
              "<p>5 rows × 536 columns</p>\n",
              "</div>"
            ],
            "text/plain": [
              "  Time from Start to Finish (seconds) Q7_Part_1  ... Q38_Other Q38_Unknown\n",
              "1                              289287         1  ...         0           0\n",
              "2                                 860         0  ...         0           0\n",
              "3                                 507         1  ...         0           0\n",
              "4                                 762         1  ...         0           0\n",
              "5                                 742         0  ...         0           0\n",
              "\n",
              "[5 rows x 536 columns]"
            ]
          },
          "metadata": {
            "tags": []
          },
          "execution_count": 105
        }
      ]
    },
    {
      "cell_type": "code",
      "metadata": {
        "id": "ELuv17b_NRyn"
      },
      "source": [
        "# turn into array\r\n",
        "feature_col_names = features.columns\r\n",
        "features = features.values\r\n",
        "targets = targets.values"
      ],
      "execution_count": 106,
      "outputs": []
    },
    {
      "cell_type": "markdown",
      "metadata": {
        "id": "sy2UaoXGUESU"
      },
      "source": [
        "# Split train test"
      ]
    },
    {
      "cell_type": "code",
      "metadata": {
        "colab": {
          "base_uri": "https://localhost:8080/"
        },
        "id": "2yhZWPPHUDCd",
        "outputId": "004eac08-71c7-4e8d-9a4a-7e2018e77881"
      },
      "source": [
        "from sklearn.model_selection import train_test_split\r\n",
        "X_train, X_test, y_train, y_test = train_test_split(\r\n",
        "     features, targets, test_size=0.2, random_state=42)\r\n",
        "print(f\"Shape of train features: {X_train.shape}\")\r\n",
        "print(f\"Shape of test features: {X_test.shape}\")"
      ],
      "execution_count": 107,
      "outputs": [
        {
          "output_type": "stream",
          "text": [
            "Shape of train features: (8583, 536)\n",
            "Shape of test features: (2146, 536)\n"
          ],
          "name": "stdout"
        }
      ]
    },
    {
      "cell_type": "markdown",
      "metadata": {
        "id": "BatbEoJjQg10"
      },
      "source": [
        "# Question 2: Exploratory data analysis and feature selection "
      ]
    },
    {
      "cell_type": "code",
      "metadata": {
        "id": "Res0W5mWE76R"
      },
      "source": [
        "from sklearn.feature_selection import SelectKBest, mutual_info_classif\r\n",
        "sel = SelectKBest(mutual_info_classif, k=20)\r\n",
        "X_train = sel.fit_transform(X_train, y_train)\r\n",
        "X_test = sel.transform(X_test)"
      ],
      "execution_count": 108,
      "outputs": []
    },
    {
      "cell_type": "code",
      "metadata": {
        "colab": {
          "base_uri": "https://localhost:8080/"
        },
        "id": "sCq8jk1KnY10",
        "outputId": "91dca48f-f07d-4629-b840-6f9cd574a41f"
      },
      "source": [
        "# k most important features\r\n",
        "feature_col_names[sel.get_support(indices=True)]"
      ],
      "execution_count": 109,
      "outputs": [
        {
          "output_type": "execute_result",
          "data": {
            "text/plain": [
              "Index(['Q3_India', 'Q3_United States of America', 'Q24_$0-999',\n",
              "       'Q24_1,000-1,999', 'Q24_10,000-14,999', 'Q24_100,000-124,999',\n",
              "       'Q24_125,000-149,999', 'Q24_15,000-19,999', 'Q24_150,000-199,999',\n",
              "       'Q24_20,000-24,999', 'Q24_200,000-249,999', 'Q24_25,000-29,999',\n",
              "       'Q24_30,000-39,999', 'Q24_40,000-49,999', 'Q24_5,000-7,499',\n",
              "       'Q24_50,000-59,999', 'Q24_60,000-69,999', 'Q24_70,000-79,999',\n",
              "       'Q24_80,000-89,999', 'Q24_90,000-99,999'],\n",
              "      dtype='object')"
            ]
          },
          "metadata": {
            "tags": []
          },
          "execution_count": 109
        }
      ]
    },
    {
      "cell_type": "code",
      "metadata": {
        "colab": {
          "base_uri": "https://localhost:8080/",
          "height": 265
        },
        "id": "o-jyUQbqgHU9",
        "outputId": "a85afd35-23fd-4336-87ab-6662d9496acb"
      },
      "source": [
        "# plot feature importances of all feature\r\n",
        "plt.bar([x for x in range(len(sel.scores_))], sel.scores_)\r\n",
        "plt.show()"
      ],
      "execution_count": 110,
      "outputs": [
        {
          "output_type": "display_data",
          "data": {
            "image/png": "[encoded data removed]",
            "text/plain": [
              "<Figure size 432x288 with 1 Axes>"
            ]
          },
          "metadata": {
            "tags": [],
            "needs_background": "light"
          }
        }
      ]
    },
    {
      "cell_type": "markdown",
      "metadata": {
        "id": "t8ooPBe0J5tW"
      },
      "source": [
        "# Question 3 Model implementation"
      ]
    },
    {
      "cell_type": "code",
      "metadata": {
        "id": "T5Q_L5cm37mQ"
      },
      "source": [
        "from sklearn.linear_model import LogisticRegression\r\n",
        "# Ordinal logistic regression\r\n",
        "\r\n",
        "class OrdinalLogits():\r\n",
        "  def __init__(self, n_class, hyperparams={}):\r\n",
        "    self.clfs = {}\r\n",
        "    self.n_class = n_class\r\n",
        "    self.hyperparams = hyperparams\r\n",
        "\r\n",
        "  def fit(self, X, y):\r\n",
        "    classes = np.unique(y)\r\n",
        "    for cls in classes:\r\n",
        "      if cls == np.max(classes):\r\n",
        "        continue\r\n",
        "      cls_0_idx = y <= cls\r\n",
        "      cls_1_idx = y > cls\r\n",
        "      ordinal_y = np.array(y)\r\n",
        "      ordinal_y[cls_0_idx] = 0\r\n",
        "      ordinal_y[cls_1_idx] = 1\r\n",
        "      clf = LogisticRegression(**self.hyperparams).fit(X, ordinal_y)\r\n",
        "      self.clfs[int(cls)] = clf\r\n",
        "\r\n",
        "\r\n",
        "  def predict(self, X):\r\n",
        "    probs = np.zeros((X.shape[0], self.n_class))\r\n",
        "    for cls in range(self.n_class):\r\n",
        "      if cls == self.n_class-1:\r\n",
        "        clf = self.clfs[cls-1]\r\n",
        "      else:\r\n",
        "        clf = self.clfs[cls]\r\n",
        "      predicted_y = clf.predict_proba(X)\r\n",
        "\r\n",
        "      if cls == 0:\r\n",
        "        probs[:, 0] = predicted_y[:, 0]\r\n",
        "      elif cls == self.n_class-1:\r\n",
        "        probs[:, self.n_class-1] = predicted_y[:, 1]\r\n",
        "      else:\r\n",
        "        prev_clf_probs = self.clfs[cls-1].predict_proba(X)\r\n",
        "        probs[:, cls] = predicted_y[:, 0] - prev_clf_probs[:, 0]\r\n",
        "    predictions = np.argmax(probs, axis=1)\r\n",
        "    return predictions\r\n"
      ],
      "execution_count": 111,
      "outputs": []
    },
    {
      "cell_type": "code",
      "metadata": {
        "id": "6kV34jU0uL7x"
      },
      "source": [
        "from sklearn.model_selection import StratifiedKFold\r\n",
        "from sklearn.metrics import f1_score, accuracy_score\r\n",
        "def run_kfold(X, y, model, n_splits=10):  \r\n",
        "    skf = StratifiedKFold(n_splits=n_splits)\r\n",
        "    f1_train = np.zeros(n_splits)\r\n",
        "    f1_val = np.zeros(n_splits)\r\n",
        "    fold = 0\r\n",
        "    \r\n",
        "    for train_index, val_index in skf.split(X, y):\r\n",
        "        X_train, X_val = X[train_index], X[val_index]\r\n",
        "        y_train, y_val = y[train_index], y[val_index]\r\n",
        "        \r\n",
        "        model.fit(X_train, y_train)\r\n",
        "        predictions_train = model.predict(X_train)\r\n",
        "        predictions_val = model.predict(X_val)\r\n",
        "        \r\n",
        "        f1_train[fold] = f1_score(y_train, predictions_train, average='weighted')\r\n",
        "        f1_val[fold] = f1_score(y_val, predictions_val, average='weighted')\r\n",
        "       \r\n",
        "        fold += 1   \r\n",
        "        \r\n",
        "    f1_mean = np.mean(f1_val)\r\n",
        "    f1_var=np.var(f1_val)\r\n",
        "    return f1_mean, f1_var "
      ],
      "execution_count": 112,
      "outputs": []
    },
    {
      "cell_type": "markdown",
      "metadata": {
        "id": "2Vp2V6xyCw0S"
      },
      "source": [
        "# Question 4"
      ]
    },
    {
      "cell_type": "code",
      "metadata": {
        "colab": {
          "base_uri": "https://localhost:8080/"
        },
        "id": "CSwOxYLizHft",
        "outputId": "72026570-990b-4dc4-9338-294c55084013"
      },
      "source": [
        "from sklearn.model_selection import ParameterGrid\r\n",
        "def tune_hyperparams(X, y, params, n_fold=10):\r\n",
        "  n_class = len(np.unique(y))\r\n",
        "  param_grid = list(ParameterGrid(params))\r\n",
        "  model_scores = {}\r\n",
        "  for param in param_grid:\r\n",
        "    print(f\"Running {n_fold}-fold with hyperparameters: {param}\")\r\n",
        "    model = OrdinalLogits(n_class=n_class, hyperparams = param)\r\n",
        "    f1_mean, f1_var = run_kfold(X, y, model, n_fold)\r\n",
        "    model_scores[f1_mean] = model\r\n",
        "    print(f\"Ending with {round(f1_mean, 3)} f1-score mean and {round(f1_var, 3)} f1-score variance\")\r\n",
        "  # return the model with the best f1 score\r\n",
        "  return model_scores[max(model_scores, key=float)]\r\n",
        "# param_grid = {'penalty': ['l1', 'l2', 'elasticnet']}\r\n",
        "param_grid = {'C': [0.01, 0.1, 1, 10]}\r\n",
        "best_model = tune_hyperparams(X_train, y_train, param_grid)"
      ],
      "execution_count": 129,
      "outputs": [
        {
          "output_type": "stream",
          "text": [
            "Running 10-fold with hyperparameters: {'C': 0.01}\n",
            "Ending with 0.864 f1-score mean and 0.0 f1-score variance\n",
            "Running 10-fold with hyperparameters: {'C': 0.1}\n",
            "Ending with 0.954 f1-score mean and 0.0 f1-score variance\n",
            "Running 10-fold with hyperparameters: {'C': 1}\n",
            "Ending with 0.966 f1-score mean and 0.0 f1-score variance\n",
            "Running 10-fold with hyperparameters: {'C': 10}\n",
            "Ending with 0.966 f1-score mean and 0.0 f1-score variance\n"
          ],
          "name": "stdout"
        }
      ]
    },
    {
      "cell_type": "markdown",
      "metadata": {
        "id": "iMB7ZGAmCy5w"
      },
      "source": [
        "# Question 5"
      ]
    },
    {
      "cell_type": "code",
      "metadata": {
        "colab": {
          "base_uri": "https://localhost:8080/"
        },
        "id": "yxtNUGeiEz1C",
        "outputId": "b59945be-c786-4142-c255-c78012836cdb"
      },
      "source": [
        "prediction_train = best_model.predict(X_train)\r\n",
        "f1_score(y_train, prediction_train, average='weighted')"
      ],
      "execution_count": 130,
      "outputs": [
        {
          "output_type": "execute_result",
          "data": {
            "text/plain": [
              "0.9662819051093474"
            ]
          },
          "metadata": {
            "tags": []
          },
          "execution_count": 130
        }
      ]
    },
    {
      "cell_type": "code",
      "metadata": {
        "colab": {
          "base_uri": "https://localhost:8080/"
        },
        "id": "5YtqlKimBfo5",
        "outputId": "bf75e9c2-6fef-4170-a50a-614455f2174e"
      },
      "source": [
        "prediction_test = best_model.predict(X_test)\r\n",
        "f1_score(y_test, prediction_test, average='weighted')"
      ],
      "execution_count": 131,
      "outputs": [
        {
          "output_type": "execute_result",
          "data": {
            "text/plain": [
              "0.9628917350783441"
            ]
          },
          "metadata": {
            "tags": []
          },
          "execution_count": 131
        }
      ]
    },
    {
      "cell_type": "code",
      "metadata": {
        "colab": {
          "base_uri": "https://localhost:8080/",
          "height": 298
        },
        "id": "xeETuAV4GKbU",
        "outputId": "9ae80797-7322-470a-8ef3-b1d587344064"
      },
      "source": [
        "fig, (ax1, ax2) = plt.subplots(1, 2)\r\n",
        "ax1.hist(y_train, bins=15)\r\n",
        "ax1.set_title('Training set true labels')\r\n",
        "ax2.hist(prediction_train, bins=15)\r\n",
        "ax2.set_title('Training set predictions')"
      ],
      "execution_count": 141,
      "outputs": [
        {
          "output_type": "execute_result",
          "data": {
            "text/plain": [
              "Text(0.5, 1.0, 'Training set predictions')"
            ]
          },
          "metadata": {
            "tags": []
          },
          "execution_count": 141
        },
        {
          "output_type": "display_data",
          "data": {
            "image/png": "[encoded data removed]",
            "text/plain": [
              "<Figure size 432x288 with 2 Axes>"
            ]
          },
          "metadata": {
            "tags": [],
            "needs_background": "light"
          }
        }
      ]
    },
    {
      "cell_type": "code",
      "metadata": {
        "colab": {
          "base_uri": "https://localhost:8080/",
          "height": 298
        },
        "id": "EY4kWcYaG1Ww",
        "outputId": "49fe90e6-eafd-472b-e1f9-f513099e8af6"
      },
      "source": [
        "fig, (ax1, ax2) = plt.subplots(1, 2)\r\n",
        "ax1.hist(y_test, bins=15)\r\n",
        "ax1.set_title('Testing set true labels')\r\n",
        "ax2.hist(prediction_test, bins=15)\r\n",
        "ax2.set_title('Testing set predictions')"
      ],
      "execution_count": 142,
      "outputs": [
        {
          "output_type": "execute_result",
          "data": {
            "text/plain": [
              "Text(0.5, 1.0, 'Testing set predictions')"
            ]
          },
          "metadata": {
            "tags": []
          },
          "execution_count": 142
        },
        {
          "output_type": "display_data",
          "data": {
            "image/png": "[encoded data removed]",
            "text/plain": [
              "<Figure size 432x288 with 2 Axes>"
            ]
          },
          "metadata": {
            "tags": [],
            "needs_background": "light"
          }
        }
      ]
    }
  ]
}